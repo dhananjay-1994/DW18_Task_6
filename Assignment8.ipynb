{
 "cells": [
  {
   "cell_type": "markdown",
   "metadata": {},
   "source": [
    "# Assignment8"
   ]
  },
  {
   "cell_type": "code",
   "execution_count": 2,
   "metadata": {},
   "outputs": [],
   "source": [
    "import pandas as pd\n",
    "import matplotlib.pyplot as plt\n",
    "import numpy as np\n",
    "from sklearn import linear_model"
   ]
  },
  {
   "cell_type": "markdown",
   "metadata": {},
   "source": [
    "# How Much is Your Car Worth?\n",
    "\n",
    "Data about the retail price of 2005 General Motors cars can be found in `car_data.csv`.\n",
    "\n",
    "The columns are:\n",
    "\n",
    "1. Price: suggested retail price of the used 2005 GM car in excellent condition.\n",
    "2. Mileage: number of miles the car has been driven\n",
    "3. Make: manufacturer of the car such as Saturn, Pontiac, and Chevrolet\n",
    "4. Model: specific models for each car manufacturer such as Ion, Vibe, Cavalier\n",
    "5. Trim (of car): specific type of car model such as SE Sedan 4D, Quad Coupe 2D          \n",
    "6. Type: body type such as sedan, coupe, etc.      \n",
    "7. Cylinder: number of cylinders in the engine        \n",
    "8. Liter: a more specific measure of engine size     \n",
    "9. Doors: number of doors           \n",
    "10. Cruise: indicator variable representing whether the car has cruise control (1 = cruise)\n",
    "11. Sound: indicator variable representing whether the car has upgraded speakers (1 = upgraded)\n",
    "12. Leather: indicator variable representing whether the car has leather seats (1 = leather)\n",
    "\n",
    "## Tasks, Part 1\n",
    "\n",
    "1. Find the linear regression equation for mileage vs price.\n",
    "2. Chart the original data and the equation on the chart.\n",
    "3. Find the equation's $R^2$ score (use the `.score` method) to determine whether the\n",
    "equation is a good fit for this data. (0.8 and greater is considered a strong correlation.)\n",
    "\n",
    "## Tasks, Part 2\n",
    "\n",
    "1. Use mileage, cylinders, liters, doors, cruise, sound, and leather to find the linear regression equation.\n",
    "2. Find the equation's $R^2$ score (use the `.score` method) to determine whether the\n",
    "equation is a good fit for this data. (0.8 and greater is considered a strong correlation.)\n",
    "3. Find the combination of the factors that is the best predictor for price.\n",
    "\n",
    "## Tasks, Hard Mode\n",
    "\n",
    "1. Research dummy variables in scikit-learn to see how to use the make, model, and body type.\n",
    "2. Find the best combination of factors to predict price."
   ]
  },
  {
   "cell_type": "code",
   "execution_count": 3,
   "metadata": {},
   "outputs": [
    {
     "data": {
      "text/html": [
       "<div>\n",
       "<style scoped>\n",
       "    .dataframe tbody tr th:only-of-type {\n",
       "        vertical-align: middle;\n",
       "    }\n",
       "\n",
       "    .dataframe tbody tr th {\n",
       "        vertical-align: top;\n",
       "    }\n",
       "\n",
       "    .dataframe thead th {\n",
       "        text-align: right;\n",
       "    }\n",
       "</style>\n",
       "<table border=\"1\" class=\"dataframe\">\n",
       "  <thead>\n",
       "    <tr style=\"text-align: right;\">\n",
       "      <th></th>\n",
       "      <th>Price</th>\n",
       "      <th>Mileage</th>\n",
       "      <th>Make</th>\n",
       "      <th>Model</th>\n",
       "      <th>Trim</th>\n",
       "      <th>Type</th>\n",
       "      <th>Cylinder</th>\n",
       "      <th>Liter</th>\n",
       "      <th>Doors</th>\n",
       "      <th>Cruise</th>\n",
       "      <th>Sound</th>\n",
       "      <th>Leather</th>\n",
       "    </tr>\n",
       "  </thead>\n",
       "  <tbody>\n",
       "    <tr>\n",
       "      <th>0</th>\n",
       "      <td>17314.103129</td>\n",
       "      <td>8221</td>\n",
       "      <td>Buick</td>\n",
       "      <td>Century</td>\n",
       "      <td>Sedan 4D</td>\n",
       "      <td>Sedan</td>\n",
       "      <td>6</td>\n",
       "      <td>3.1</td>\n",
       "      <td>4</td>\n",
       "      <td>1</td>\n",
       "      <td>1</td>\n",
       "      <td>1</td>\n",
       "    </tr>\n",
       "    <tr>\n",
       "      <th>1</th>\n",
       "      <td>17542.036083</td>\n",
       "      <td>9135</td>\n",
       "      <td>Buick</td>\n",
       "      <td>Century</td>\n",
       "      <td>Sedan 4D</td>\n",
       "      <td>Sedan</td>\n",
       "      <td>6</td>\n",
       "      <td>3.1</td>\n",
       "      <td>4</td>\n",
       "      <td>1</td>\n",
       "      <td>1</td>\n",
       "      <td>0</td>\n",
       "    </tr>\n",
       "    <tr>\n",
       "      <th>2</th>\n",
       "      <td>16218.847862</td>\n",
       "      <td>13196</td>\n",
       "      <td>Buick</td>\n",
       "      <td>Century</td>\n",
       "      <td>Sedan 4D</td>\n",
       "      <td>Sedan</td>\n",
       "      <td>6</td>\n",
       "      <td>3.1</td>\n",
       "      <td>4</td>\n",
       "      <td>1</td>\n",
       "      <td>1</td>\n",
       "      <td>0</td>\n",
       "    </tr>\n",
       "    <tr>\n",
       "      <th>3</th>\n",
       "      <td>16336.913140</td>\n",
       "      <td>16342</td>\n",
       "      <td>Buick</td>\n",
       "      <td>Century</td>\n",
       "      <td>Sedan 4D</td>\n",
       "      <td>Sedan</td>\n",
       "      <td>6</td>\n",
       "      <td>3.1</td>\n",
       "      <td>4</td>\n",
       "      <td>1</td>\n",
       "      <td>0</td>\n",
       "      <td>0</td>\n",
       "    </tr>\n",
       "    <tr>\n",
       "      <th>4</th>\n",
       "      <td>16339.170324</td>\n",
       "      <td>19832</td>\n",
       "      <td>Buick</td>\n",
       "      <td>Century</td>\n",
       "      <td>Sedan 4D</td>\n",
       "      <td>Sedan</td>\n",
       "      <td>6</td>\n",
       "      <td>3.1</td>\n",
       "      <td>4</td>\n",
       "      <td>1</td>\n",
       "      <td>0</td>\n",
       "      <td>1</td>\n",
       "    </tr>\n",
       "  </tbody>\n",
       "</table>\n",
       "</div>"
      ],
      "text/plain": [
       "          Price  Mileage   Make    Model      Trim   Type  Cylinder  Liter  \\\n",
       "0  17314.103129     8221  Buick  Century  Sedan 4D  Sedan         6    3.1   \n",
       "1  17542.036083     9135  Buick  Century  Sedan 4D  Sedan         6    3.1   \n",
       "2  16218.847862    13196  Buick  Century  Sedan 4D  Sedan         6    3.1   \n",
       "3  16336.913140    16342  Buick  Century  Sedan 4D  Sedan         6    3.1   \n",
       "4  16339.170324    19832  Buick  Century  Sedan 4D  Sedan         6    3.1   \n",
       "\n",
       "   Doors  Cruise  Sound  Leather  \n",
       "0      4       1      1        1  \n",
       "1      4       1      1        0  \n",
       "2      4       1      1        0  \n",
       "3      4       1      0        0  \n",
       "4      4       1      0        1  "
      ]
     },
     "execution_count": 3,
     "metadata": {},
     "output_type": "execute_result"
    }
   ],
   "source": [
    "df = pd.read_csv(\"car_data.csv\")\n",
    "df.head()"
   ]
  },
  {
   "cell_type": "code",
   "execution_count": 4,
   "metadata": {},
   "outputs": [
    {
     "data": {
      "text/plain": [
       "Price       0\n",
       "Mileage     0\n",
       "Make        0\n",
       "Model       0\n",
       "Trim        0\n",
       "Type        0\n",
       "Cylinder    0\n",
       "Liter       0\n",
       "Doors       0\n",
       "Cruise      0\n",
       "Sound       0\n",
       "Leather     0\n",
       "dtype: int64"
      ]
     },
     "execution_count": 4,
     "metadata": {},
     "output_type": "execute_result"
    }
   ],
   "source": [
    "df.isnull().sum()"
   ]
  },
  {
   "cell_type": "code",
   "execution_count": 5,
   "metadata": {},
   "outputs": [
    {
     "data": {
      "text/plain": [
       "Price       0\n",
       "Mileage     0\n",
       "Make        0\n",
       "Model       0\n",
       "Trim        0\n",
       "Type        0\n",
       "Cylinder    0\n",
       "Liter       0\n",
       "Doors       0\n",
       "Cruise      0\n",
       "Sound       0\n",
       "Leather     0\n",
       "dtype: int64"
      ]
     },
     "execution_count": 5,
     "metadata": {},
     "output_type": "execute_result"
    }
   ],
   "source": [
    "df.isna().sum()"
   ]
  },
  {
   "cell_type": "code",
   "execution_count": 6,
   "metadata": {},
   "outputs": [
    {
     "data": {
      "text/plain": [
       "Price       float64\n",
       "Mileage       int64\n",
       "Make         object\n",
       "Model        object\n",
       "Trim         object\n",
       "Type         object\n",
       "Cylinder      int64\n",
       "Liter       float64\n",
       "Doors         int64\n",
       "Cruise        int64\n",
       "Sound         int64\n",
       "Leather       int64\n",
       "dtype: object"
      ]
     },
     "execution_count": 6,
     "metadata": {},
     "output_type": "execute_result"
    }
   ],
   "source": [
    "df.dtypes"
   ]
  },
  {
   "cell_type": "code",
   "execution_count": 7,
   "metadata": {},
   "outputs": [
    {
     "data": {
      "text/plain": [
       "(804, 12)"
      ]
     },
     "execution_count": 7,
     "metadata": {},
     "output_type": "execute_result"
    }
   ],
   "source": [
    "df.shape"
   ]
  },
  {
   "cell_type": "code",
   "execution_count": 8,
   "metadata": {},
   "outputs": [
    {
     "data": {
      "text/plain": [
       "(804, 12)"
      ]
     },
     "execution_count": 8,
     "metadata": {},
     "output_type": "execute_result"
    }
   ],
   "source": [
    "df1 = df.drop_duplicates()\n",
    "df1.shape"
   ]
  },
  {
   "cell_type": "code",
   "execution_count": 9,
   "metadata": {},
   "outputs": [
    {
     "data": {
      "text/html": [
       "<div>\n",
       "<style scoped>\n",
       "    .dataframe tbody tr th:only-of-type {\n",
       "        vertical-align: middle;\n",
       "    }\n",
       "\n",
       "    .dataframe tbody tr th {\n",
       "        vertical-align: top;\n",
       "    }\n",
       "\n",
       "    .dataframe thead th {\n",
       "        text-align: right;\n",
       "    }\n",
       "</style>\n",
       "<table border=\"1\" class=\"dataframe\">\n",
       "  <thead>\n",
       "    <tr style=\"text-align: right;\">\n",
       "      <th></th>\n",
       "      <th>count</th>\n",
       "      <th>mean</th>\n",
       "      <th>std</th>\n",
       "      <th>min</th>\n",
       "      <th>25%</th>\n",
       "      <th>50%</th>\n",
       "      <th>75%</th>\n",
       "      <th>max</th>\n",
       "    </tr>\n",
       "  </thead>\n",
       "  <tbody>\n",
       "    <tr>\n",
       "      <th>Price</th>\n",
       "      <td>804.0</td>\n",
       "      <td>21343.143767</td>\n",
       "      <td>9884.852801</td>\n",
       "      <td>8638.930895</td>\n",
       "      <td>14273.07387</td>\n",
       "      <td>18024.995019</td>\n",
       "      <td>26717.316636</td>\n",
       "      <td>70755.466717</td>\n",
       "    </tr>\n",
       "    <tr>\n",
       "      <th>Mileage</th>\n",
       "      <td>804.0</td>\n",
       "      <td>19831.934080</td>\n",
       "      <td>8196.319707</td>\n",
       "      <td>266.000000</td>\n",
       "      <td>14623.50000</td>\n",
       "      <td>20913.500000</td>\n",
       "      <td>25213.000000</td>\n",
       "      <td>50387.000000</td>\n",
       "    </tr>\n",
       "    <tr>\n",
       "      <th>Cylinder</th>\n",
       "      <td>804.0</td>\n",
       "      <td>5.268657</td>\n",
       "      <td>1.387531</td>\n",
       "      <td>4.000000</td>\n",
       "      <td>4.00000</td>\n",
       "      <td>6.000000</td>\n",
       "      <td>6.000000</td>\n",
       "      <td>8.000000</td>\n",
       "    </tr>\n",
       "    <tr>\n",
       "      <th>Liter</th>\n",
       "      <td>804.0</td>\n",
       "      <td>3.037313</td>\n",
       "      <td>1.105562</td>\n",
       "      <td>1.600000</td>\n",
       "      <td>2.20000</td>\n",
       "      <td>2.800000</td>\n",
       "      <td>3.800000</td>\n",
       "      <td>6.000000</td>\n",
       "    </tr>\n",
       "    <tr>\n",
       "      <th>Doors</th>\n",
       "      <td>804.0</td>\n",
       "      <td>3.527363</td>\n",
       "      <td>0.850169</td>\n",
       "      <td>2.000000</td>\n",
       "      <td>4.00000</td>\n",
       "      <td>4.000000</td>\n",
       "      <td>4.000000</td>\n",
       "      <td>4.000000</td>\n",
       "    </tr>\n",
       "    <tr>\n",
       "      <th>Cruise</th>\n",
       "      <td>804.0</td>\n",
       "      <td>0.752488</td>\n",
       "      <td>0.431836</td>\n",
       "      <td>0.000000</td>\n",
       "      <td>1.00000</td>\n",
       "      <td>1.000000</td>\n",
       "      <td>1.000000</td>\n",
       "      <td>1.000000</td>\n",
       "    </tr>\n",
       "    <tr>\n",
       "      <th>Sound</th>\n",
       "      <td>804.0</td>\n",
       "      <td>0.679104</td>\n",
       "      <td>0.467111</td>\n",
       "      <td>0.000000</td>\n",
       "      <td>0.00000</td>\n",
       "      <td>1.000000</td>\n",
       "      <td>1.000000</td>\n",
       "      <td>1.000000</td>\n",
       "    </tr>\n",
       "    <tr>\n",
       "      <th>Leather</th>\n",
       "      <td>804.0</td>\n",
       "      <td>0.723881</td>\n",
       "      <td>0.447355</td>\n",
       "      <td>0.000000</td>\n",
       "      <td>0.00000</td>\n",
       "      <td>1.000000</td>\n",
       "      <td>1.000000</td>\n",
       "      <td>1.000000</td>\n",
       "    </tr>\n",
       "  </tbody>\n",
       "</table>\n",
       "</div>"
      ],
      "text/plain": [
       "          count          mean          std          min          25%  \\\n",
       "Price     804.0  21343.143767  9884.852801  8638.930895  14273.07387   \n",
       "Mileage   804.0  19831.934080  8196.319707   266.000000  14623.50000   \n",
       "Cylinder  804.0      5.268657     1.387531     4.000000      4.00000   \n",
       "Liter     804.0      3.037313     1.105562     1.600000      2.20000   \n",
       "Doors     804.0      3.527363     0.850169     2.000000      4.00000   \n",
       "Cruise    804.0      0.752488     0.431836     0.000000      1.00000   \n",
       "Sound     804.0      0.679104     0.467111     0.000000      0.00000   \n",
       "Leather   804.0      0.723881     0.447355     0.000000      0.00000   \n",
       "\n",
       "                   50%           75%           max  \n",
       "Price     18024.995019  26717.316636  70755.466717  \n",
       "Mileage   20913.500000  25213.000000  50387.000000  \n",
       "Cylinder      6.000000      6.000000      8.000000  \n",
       "Liter         2.800000      3.800000      6.000000  \n",
       "Doors         4.000000      4.000000      4.000000  \n",
       "Cruise        1.000000      1.000000      1.000000  \n",
       "Sound         1.000000      1.000000      1.000000  \n",
       "Leather       1.000000      1.000000      1.000000  "
      ]
     },
     "execution_count": 9,
     "metadata": {},
     "output_type": "execute_result"
    }
   ],
   "source": [
    "df.describe().T"
   ]
  },
  {
   "cell_type": "code",
   "execution_count": 10,
   "metadata": {},
   "outputs": [
    {
     "name": "stderr",
     "output_type": "stream",
     "text": [
      "C:\\Users\\ashle\\AppData\\Local\\Temp\\ipykernel_4612\\3037570416.py:4: FutureWarning: Automatic reindexing on DataFrame vs Series comparisons is deprecated and will raise ValueError in a future version. Do `left, right = left.align(right, axis=1, copy=False)` before e.g. `left == right`\n",
      "  ((df < (Q1 - 1.5 * IQR)) | (df > (Q3 + 1.5 * IQR))).sum() # gives no. of outliers\n"
     ]
    },
    {
     "data": {
      "text/plain": [
       "Cruise      199\n",
       "Cylinder      0\n",
       "Doors       190\n",
       "Leather       0\n",
       "Liter         0\n",
       "Make          0\n",
       "Mileage       5\n",
       "Model         0\n",
       "Price        17\n",
       "Sound         0\n",
       "Trim          0\n",
       "Type          0\n",
       "dtype: int64"
      ]
     },
     "execution_count": 10,
     "metadata": {},
     "output_type": "execute_result"
    }
   ],
   "source": [
    "Q1 = df.quantile(0.25)\n",
    "Q3 = df.quantile(0.75)\n",
    "IQR = Q3 - Q1\n",
    "((df < (Q1 - 1.5 * IQR)) | (df > (Q3 + 1.5 * IQR))).sum() # gives no. of outliers"
   ]
  },
  {
   "cell_type": "code",
   "execution_count": 11,
   "metadata": {},
   "outputs": [
    {
     "name": "stdout",
     "output_type": "stream",
     "text": [
      "<class 'pandas.core.frame.DataFrame'>\n",
      "RangeIndex: 804 entries, 0 to 803\n",
      "Data columns (total 12 columns):\n",
      " #   Column    Non-Null Count  Dtype  \n",
      "---  ------    --------------  -----  \n",
      " 0   Price     804 non-null    float64\n",
      " 1   Mileage   804 non-null    int64  \n",
      " 2   Make      804 non-null    object \n",
      " 3   Model     804 non-null    object \n",
      " 4   Trim      804 non-null    object \n",
      " 5   Type      804 non-null    object \n",
      " 6   Cylinder  804 non-null    int64  \n",
      " 7   Liter     804 non-null    float64\n",
      " 8   Doors     804 non-null    int64  \n",
      " 9   Cruise    804 non-null    int64  \n",
      " 10  Sound     804 non-null    int64  \n",
      " 11  Leather   804 non-null    int64  \n",
      "dtypes: float64(2), int64(6), object(4)\n",
      "memory usage: 75.5+ KB\n"
     ]
    }
   ],
   "source": [
    "df.info()"
   ]
  },
  {
   "cell_type": "markdown",
   "metadata": {},
   "source": [
    "Tasks, Part 1\n",
    "Find the linear regression equation for mileage vs price.\n",
    "Chart the original data and the equation on the chart.\n",
    "Find the equation's R2 score (use the .score method) to determine whether the equation is a good fit for this data. (0.8 and greater is considered a strong correlation.)"
   ]
  },
  {
   "cell_type": "code",
   "execution_count": 13,
   "metadata": {},
   "outputs": [
    {
     "data": {
      "image/png": "[encoded data removed]",
      "text/plain": [
       "<Figure size 640x480 with 1 Axes>"
      ]
     },
     "metadata": {},
     "output_type": "display_data"
    },
    {
     "name": "stdout",
     "output_type": "stream",
     "text": [
      "          Mileage     Price\n",
      "Mileage  1.000000 -0.143051\n",
      "Price   -0.143051  1.000000\n"
     ]
    }
   ],
   "source": [
    "#plot \n",
    "df.plot(x='Mileage', y='Price', style='o') \n",
    "plt.title('Mileage vs Price')\n",
    "plt.xlabel('Mileage')\n",
    "plt.ylabel('Price')\n",
    "plt.show()\n",
    "\n",
    "print(df[[\"Mileage\",\"Price\"]].corr())"
   ]
  },
  {
   "cell_type": "markdown",
   "metadata": {},
   "source": [
    "correlation of mileage Vs Price is -0.1403, which is >-0.2 and <0.2. so this is a negative correlation and we can try transforming."
   ]
  },
  {
   "cell_type": "code",
   "execution_count": 15,
   "metadata": {},
   "outputs": [
    {
     "data": {
      "image/png": "[encoded data removed]",
      "text/plain": [
       "<Figure size 640x480 with 1 Axes>"
      ]
     },
     "metadata": {},
     "output_type": "display_data"
    },
    {
     "name": "stdout",
     "output_type": "stream",
     "text": [
      "                     transformed_mileage     Price\n",
      "transformed_mileage             1.000000 -0.117232\n",
      "Price                          -0.117232  1.000000\n"
     ]
    }
   ],
   "source": [
    "import numpy as np\n",
    "df['transformed_mileage'] = np.power(df['Mileage'],2) #sq transformation\n",
    "df.plot(x='transformed_mileage', y='Price', style='o')\n",
    "plt.title('Transformed_Mileage vs Price')\n",
    "plt.xlabel('Transformed_Mileage')\n",
    "plt.ylabel('Price')\n",
    "plt.show()\n",
    "\n",
    "print(df[[\"transformed_mileage\",\"Price\"]].corr()) "
   ]
  },
  {
   "cell_type": "code",
   "execution_count": 16,
   "metadata": {},
   "outputs": [
    {
     "data": {
      "image/png": "[encoded data removed]",
      "text/plain": [
       "<Figure size 640x480 with 1 Axes>"
      ]
     },
     "metadata": {},
     "output_type": "display_data"
    },
    {
     "name": "stdout",
     "output_type": "stream",
     "text": [
      "                     transformed_mileage     Price\n",
      "transformed_mileage             1.000000 -0.085018\n",
      "Price                          -0.085018  1.000000\n"
     ]
    }
   ],
   "source": [
    "import numpy as np\n",
    "df['transformed_mileage'] = np.power(df['Mileage'],3) #cube transformation\n",
    "df.plot(x='transformed_mileage', y='Price', style='o')\n",
    "plt.title('Transformed_Mileage vs Price')\n",
    "plt.xlabel('Transformed_Mileage')\n",
    "plt.ylabel('Price')\n",
    "plt.show()\n",
    "\n",
    "print(df[[\"transformed_mileage\",\"Price\"]].corr()) "
   ]
  },
  {
   "cell_type": "code",
   "execution_count": 17,
   "metadata": {},
   "outputs": [
    {
     "data": {
      "image/png": "[encoded data removed]",
      "text/plain": [
       "<Figure size 640x480 with 1 Axes>"
      ]
     },
     "metadata": {},
     "output_type": "display_data"
    },
    {
     "name": "stdout",
     "output_type": "stream",
     "text": [
      "                     transformed_mileage     Price\n",
      "transformed_mileage             1.000000 -0.149316\n",
      "Price                          -0.149316  1.000000\n"
     ]
    }
   ],
   "source": [
    "import numpy as np\n",
    "df['transformed_mileage'] = np.power(df['Mileage'],0.5) #sqrt transformation\n",
    "df.plot(x='transformed_mileage', y='Price', style='o')\n",
    "plt.title('Transformed_Mileage vs Price')\n",
    "plt.xlabel('Transformed_Mileage')\n",
    "plt.ylabel('Price')\n",
    "plt.show()\n",
    "\n",
    "print(df[[\"transformed_mileage\",\"Price\"]].corr())"
   ]
  },
  {
   "cell_type": "code",
   "execution_count": 18,
   "metadata": {},
   "outputs": [
    {
     "name": "stderr",
     "output_type": "stream",
     "text": [
      "C:\\Users\\ashle\\anaconda3\\lib\\site-packages\\pandas\\core\\arraylike.py:397: RuntimeWarning: overflow encountered in exp\n",
      "  result = getattr(ufunc, method)(*inputs, **kwargs)\n"
     ]
    },
    {
     "data": {
      "image/png": "[encoded data removed]",
      "text/plain": [
       "<Figure size 640x480 with 1 Axes>"
      ]
     },
     "metadata": {},
     "output_type": "display_data"
    },
    {
     "name": "stdout",
     "output_type": "stream",
     "text": [
      "                     transformed_mileage  Price\n",
      "transformed_mileage                  NaN   -0.0\n",
      "Price                               -0.0    1.0\n"
     ]
    }
   ],
   "source": [
    "df['transformed_mileage'] = np.exp(df['Mileage']) #e^ transformation\n",
    "df.plot(x='transformed_mileage', y='Price', style='o')\n",
    "plt.title('Transformed_Mileage vs Price')\n",
    "plt.xlabel('Transformed_Mileage')\n",
    "plt.ylabel('Price')\n",
    "plt.show()\n",
    "\n",
    "print(df[[\"transformed_mileage\",\"Price\"]].corr())"
   ]
  },
  {
   "cell_type": "code",
   "execution_count": 19,
   "metadata": {},
   "outputs": [
    {
     "data": {
      "image/png": "[encoded data removed]",
      "text/plain": [
       "<Figure size 640x480 with 1 Axes>"
      ]
     },
     "metadata": {},
     "output_type": "display_data"
    },
    {
     "name": "stdout",
     "output_type": "stream",
     "text": [
      "                     transformed_mileage     Price\n",
      "transformed_mileage             1.000000 -0.145424\n",
      "Price                          -0.145424  1.000000\n"
     ]
    }
   ],
   "source": [
    "df['transformed_mileage'] = np.log(df['Mileage']) #log transformation\n",
    "df.plot(x='transformed_mileage', y='Price', style='o')\n",
    "plt.title('Transformed Mileage vs Price')\n",
    "plt.xlabel('Transformed Mileage')\n",
    "plt.ylabel('Price')\n",
    "plt.show()\n",
    "\n",
    "print(df[[\"transformed_mileage\",\"Price\"]].corr())"
   ]
  },
  {
   "cell_type": "markdown",
   "metadata": {},
   "source": [
    "even after all the transformations, the corr is still [-0.2< \"correlation\" >0.2] .\n",
    "\n",
    "there is no linear relation ship between the target and the feature. but still we are heading towards trainig model and finding the R2 score as we are asked."
   ]
  },
  {
   "cell_type": "code",
   "execution_count": 20,
   "metadata": {},
   "outputs": [
    {
     "name": "stdout",
     "output_type": "stream",
     "text": [
      "Linear regression equation y=[-0.1725205]x+ [24764.55900606]\n",
      "intercept: [24764.55900606]\n",
      "coefficients: [[-0.1725205]]\n",
      "R2-score: 0.02046344732348926\n"
     ]
    }
   ],
   "source": [
    "x = df[['Mileage']]\n",
    "y = df[['Price']]\n",
    "\n",
    "from sklearn.linear_model import LinearRegression\n",
    "regressor = LinearRegression()\n",
    "regressor.fit(x,y)\n",
    "\n",
    "print('Linear regression equation y={}x+ {}'.format(regressor.coef_[0], regressor.intercept_))\n",
    "\n",
    "print('intercept:', regressor.intercept_)# slope m\n",
    "print('coefficients:', regressor.coef_)# intercept C\n",
    "print('R2-score:', regressor.score(x, y))"
   ]
  },
  {
   "cell_type": "code",
   "execution_count": 21,
   "metadata": {},
   "outputs": [
    {
     "data": {
      "text/plain": [
       "Text(0.5, 1.0, 'Mileage vs Price')"
      ]
     },
     "execution_count": 21,
     "metadata": {},
     "output_type": "execute_result"
    },
    {
     "data": {
      "image/png": "[encoded data removed]",
      "text/plain": [
       "<Figure size 640x480 with 1 Axes>"
      ]
     },
     "metadata": {},
     "output_type": "display_data"
    }
   ],
   "source": [
    "#Chart the original data and the equation on the chart.\n",
    "\n",
    "plt.scatter(x, y)\n",
    "plt.plot(x, regressor.predict(x),color=\"black\")\n",
    "plt.xlabel('Mileage')\n",
    "plt.ylabel('Price')\n",
    "plt.title('Mileage vs Price')"
   ]
  },
  {
   "cell_type": "markdown",
   "metadata": {},
   "source": [
    "This is not a good fit,as R2=0.02 much <0.8"
   ]
  },
  {
   "cell_type": "markdown",
   "metadata": {},
   "source": [
    "Tasks, Part 2\n",
    "Use mileage, cylinders, liters, doors, cruise, sound, and leather to find the linear regression equation.\n",
    "\n",
    "Find the equation's R2 score (use the .score method) to determine whether the equation is a good fit for this data. (0.8 and greater is considered a strong correlation.)\n",
    "\n",
    "Find the combination of the factors that is the best predictor for price."
   ]
  },
  {
   "cell_type": "code",
   "execution_count": 22,
   "metadata": {},
   "outputs": [
    {
     "data": {
      "text/html": [
       "<div>\n",
       "<style scoped>\n",
       "    .dataframe tbody tr th:only-of-type {\n",
       "        vertical-align: middle;\n",
       "    }\n",
       "\n",
       "    .dataframe tbody tr th {\n",
       "        vertical-align: top;\n",
       "    }\n",
       "\n",
       "    .dataframe thead th {\n",
       "        text-align: right;\n",
       "    }\n",
       "</style>\n",
       "<table border=\"1\" class=\"dataframe\">\n",
       "  <thead>\n",
       "    <tr style=\"text-align: right;\">\n",
       "      <th></th>\n",
       "      <th>Price</th>\n",
       "      <th>Mileage</th>\n",
       "      <th>Make</th>\n",
       "      <th>Model</th>\n",
       "      <th>Trim</th>\n",
       "      <th>Type</th>\n",
       "      <th>Cylinder</th>\n",
       "      <th>Liter</th>\n",
       "      <th>Doors</th>\n",
       "      <th>Cruise</th>\n",
       "      <th>Sound</th>\n",
       "      <th>Leather</th>\n",
       "    </tr>\n",
       "  </thead>\n",
       "  <tbody>\n",
       "    <tr>\n",
       "      <th>0</th>\n",
       "      <td>17314.103129</td>\n",
       "      <td>8221</td>\n",
       "      <td>Buick</td>\n",
       "      <td>Century</td>\n",
       "      <td>Sedan 4D</td>\n",
       "      <td>Sedan</td>\n",
       "      <td>6</td>\n",
       "      <td>3.1</td>\n",
       "      <td>4</td>\n",
       "      <td>1</td>\n",
       "      <td>1</td>\n",
       "      <td>1</td>\n",
       "    </tr>\n",
       "    <tr>\n",
       "      <th>1</th>\n",
       "      <td>17542.036083</td>\n",
       "      <td>9135</td>\n",
       "      <td>Buick</td>\n",
       "      <td>Century</td>\n",
       "      <td>Sedan 4D</td>\n",
       "      <td>Sedan</td>\n",
       "      <td>6</td>\n",
       "      <td>3.1</td>\n",
       "      <td>4</td>\n",
       "      <td>1</td>\n",
       "      <td>1</td>\n",
       "      <td>0</td>\n",
       "    </tr>\n",
       "    <tr>\n",
       "      <th>2</th>\n",
       "      <td>16218.847862</td>\n",
       "      <td>13196</td>\n",
       "      <td>Buick</td>\n",
       "      <td>Century</td>\n",
       "      <td>Sedan 4D</td>\n",
       "      <td>Sedan</td>\n",
       "      <td>6</td>\n",
       "      <td>3.1</td>\n",
       "      <td>4</td>\n",
       "      <td>1</td>\n",
       "      <td>1</td>\n",
       "      <td>0</td>\n",
       "    </tr>\n",
       "    <tr>\n",
       "      <th>3</th>\n",
       "      <td>16336.913140</td>\n",
       "      <td>16342</td>\n",
       "      <td>Buick</td>\n",
       "      <td>Century</td>\n",
       "      <td>Sedan 4D</td>\n",
       "      <td>Sedan</td>\n",
       "      <td>6</td>\n",
       "      <td>3.1</td>\n",
       "      <td>4</td>\n",
       "      <td>1</td>\n",
       "      <td>0</td>\n",
       "      <td>0</td>\n",
       "    </tr>\n",
       "    <tr>\n",
       "      <th>4</th>\n",
       "      <td>16339.170324</td>\n",
       "      <td>19832</td>\n",
       "      <td>Buick</td>\n",
       "      <td>Century</td>\n",
       "      <td>Sedan 4D</td>\n",
       "      <td>Sedan</td>\n",
       "      <td>6</td>\n",
       "      <td>3.1</td>\n",
       "      <td>4</td>\n",
       "      <td>1</td>\n",
       "      <td>0</td>\n",
       "      <td>1</td>\n",
       "    </tr>\n",
       "  </tbody>\n",
       "</table>\n",
       "</div>"
      ],
      "text/plain": [
       "          Price  Mileage   Make    Model      Trim   Type  Cylinder  Liter  \\\n",
       "0  17314.103129     8221  Buick  Century  Sedan 4D  Sedan         6    3.1   \n",
       "1  17542.036083     9135  Buick  Century  Sedan 4D  Sedan         6    3.1   \n",
       "2  16218.847862    13196  Buick  Century  Sedan 4D  Sedan         6    3.1   \n",
       "3  16336.913140    16342  Buick  Century  Sedan 4D  Sedan         6    3.1   \n",
       "4  16339.170324    19832  Buick  Century  Sedan 4D  Sedan         6    3.1   \n",
       "\n",
       "   Doors  Cruise  Sound  Leather  \n",
       "0      4       1      1        1  \n",
       "1      4       1      1        0  \n",
       "2      4       1      1        0  \n",
       "3      4       1      0        0  \n",
       "4      4       1      0        1  "
      ]
     },
     "execution_count": 22,
     "metadata": {},
     "output_type": "execute_result"
    }
   ],
   "source": [
    "df = pd.read_csv(\"car_data.csv\")\n",
    "df.head()"
   ]
  },
  {
   "cell_type": "code",
   "execution_count": 23,
   "metadata": {},
   "outputs": [
    {
     "name": "stderr",
     "output_type": "stream",
     "text": [
      "C:\\Users\\ashle\\AppData\\Local\\Temp\\ipykernel_4612\\3037570416.py:4: FutureWarning: Automatic reindexing on DataFrame vs Series comparisons is deprecated and will raise ValueError in a future version. Do `left, right = left.align(right, axis=1, copy=False)` before e.g. `left == right`\n",
      "  ((df < (Q1 - 1.5 * IQR)) | (df > (Q3 + 1.5 * IQR))).sum() # gives no. of outliers\n"
     ]
    },
    {
     "data": {
      "text/plain": [
       "Cruise      199\n",
       "Cylinder      0\n",
       "Doors       190\n",
       "Leather       0\n",
       "Liter         0\n",
       "Make          0\n",
       "Mileage       5\n",
       "Model         0\n",
       "Price        17\n",
       "Sound         0\n",
       "Trim          0\n",
       "Type          0\n",
       "dtype: int64"
      ]
     },
     "execution_count": 23,
     "metadata": {},
     "output_type": "execute_result"
    }
   ],
   "source": [
    "Q1 = df.quantile(0.25)\n",
    "Q3 = df.quantile(0.75)\n",
    "IQR = Q3 - Q1\n",
    "((df < (Q1 - 1.5 * IQR)) | (df > (Q3 + 1.5 * IQR))).sum() # gives no. of outliers"
   ]
  },
  {
   "cell_type": "markdown",
   "metadata": {},
   "source": [
    "as we are about to use Doors and Cruise in this task, we have to corrupt the outliers by capping."
   ]
  },
  {
   "cell_type": "code",
   "execution_count": 24,
   "metadata": {},
   "outputs": [
    {
     "name": "stdout",
     "output_type": "stream",
     "text": [
      "Doors :  2\n",
      "Cruise :  2\n"
     ]
    }
   ],
   "source": [
    "print(\"Doors : \", len(df[\"Doors\"].unique()))\n",
    "\n",
    "print(\"Cruise : \", len(df[\"Cruise\"].unique()))"
   ]
  },
  {
   "cell_type": "markdown",
   "metadata": {},
   "source": [
    "but the unique values of Doors and Cruise are only 2.they are categorical and are already label encoded as 0 and 1 ."
   ]
  },
  {
   "cell_type": "code",
   "execution_count": 25,
   "metadata": {},
   "outputs": [
    {
     "data": {
      "text/plain": [
       "Index(['Price', 'Mileage', 'Make', 'Model', 'Trim', 'Type', 'Cylinder',\n",
       "       'Liter', 'Doors', 'Cruise', 'Sound', 'Leather'],\n",
       "      dtype='object')"
      ]
     },
     "execution_count": 25,
     "metadata": {},
     "output_type": "execute_result"
    }
   ],
   "source": [
    "df.columns"
   ]
  },
  {
   "cell_type": "code",
   "execution_count": 26,
   "metadata": {},
   "outputs": [],
   "source": [
    "X = df[['Mileage','Cylinder','Liter', 'Doors', 'Cruise', 'Sound', 'Leather']].values #array of features\n",
    "y = df['Price'].values #array of targets"
   ]
  },
  {
   "cell_type": "code",
   "execution_count": 27,
   "metadata": {},
   "outputs": [],
   "source": [
    "from sklearn.model_selection import train_test_split\n",
    "X_train, X_test, y_train, y_test = train_test_split(X, y, test_size=0.2, random_state=0)"
   ]
  },
  {
   "cell_type": "code",
   "execution_count": 28,
   "metadata": {},
   "outputs": [],
   "source": [
    "from sklearn.preprocessing import StandardScaler ## standrard scaling \n",
    "scaler = StandardScaler() #initialise to a variable\n",
    "scaler.fit(X_train) # we are finding the values of mean and sd from the td\n",
    "X_train_scaled = scaler.transform(X_train) # fit (mean, sd) and then transform the training data\n",
    "X_test_scaled = scaler.transform(X_test) # transform the test data "
   ]
  },
  {
   "cell_type": "code",
   "execution_count": 29,
   "metadata": {},
   "outputs": [
    {
     "data": {
      "text/plain": [
       "LinearRegression()"
      ]
     },
     "execution_count": 29,
     "metadata": {},
     "output_type": "execute_result"
    }
   ],
   "source": [
    "#model training\n",
    "\n",
    "\n",
    "from sklearn.linear_model import LinearRegression\n",
    "regressor = LinearRegression()\n",
    "regressor.fit(X_train_scaled, y_train)"
   ]
  },
  {
   "cell_type": "code",
   "execution_count": 30,
   "metadata": {},
   "outputs": [
    {
     "data": {
      "text/html": [
       "<div>\n",
       "<style scoped>\n",
       "    .dataframe tbody tr th:only-of-type {\n",
       "        vertical-align: middle;\n",
       "    }\n",
       "\n",
       "    .dataframe tbody tr th {\n",
       "        vertical-align: top;\n",
       "    }\n",
       "\n",
       "    .dataframe thead th {\n",
       "        text-align: right;\n",
       "    }\n",
       "</style>\n",
       "<table border=\"1\" class=\"dataframe\">\n",
       "  <thead>\n",
       "    <tr style=\"text-align: right;\">\n",
       "      <th></th>\n",
       "      <th>Actual</th>\n",
       "      <th>Predicted</th>\n",
       "    </tr>\n",
       "  </thead>\n",
       "  <tbody>\n",
       "    <tr>\n",
       "      <th>0</th>\n",
       "      <td>14862.093870</td>\n",
       "      <td>26841.569929</td>\n",
       "    </tr>\n",
       "    <tr>\n",
       "      <th>1</th>\n",
       "      <td>16256.236168</td>\n",
       "      <td>23107.117980</td>\n",
       "    </tr>\n",
       "    <tr>\n",
       "      <th>2</th>\n",
       "      <td>15802.652861</td>\n",
       "      <td>10715.787911</td>\n",
       "    </tr>\n",
       "    <tr>\n",
       "      <th>3</th>\n",
       "      <td>45061.951935</td>\n",
       "      <td>33065.377426</td>\n",
       "    </tr>\n",
       "    <tr>\n",
       "      <th>4</th>\n",
       "      <td>12425.389171</td>\n",
       "      <td>14351.796236</td>\n",
       "    </tr>\n",
       "    <tr>\n",
       "      <th>...</th>\n",
       "      <td>...</td>\n",
       "      <td>...</td>\n",
       "    </tr>\n",
       "    <tr>\n",
       "      <th>156</th>\n",
       "      <td>18548.978593</td>\n",
       "      <td>23567.742988</td>\n",
       "    </tr>\n",
       "    <tr>\n",
       "      <th>157</th>\n",
       "      <td>36332.894685</td>\n",
       "      <td>33476.069241</td>\n",
       "    </tr>\n",
       "    <tr>\n",
       "      <th>158</th>\n",
       "      <td>21683.031464</td>\n",
       "      <td>20174.792218</td>\n",
       "    </tr>\n",
       "    <tr>\n",
       "      <th>159</th>\n",
       "      <td>18040.144006</td>\n",
       "      <td>31235.598323</td>\n",
       "    </tr>\n",
       "    <tr>\n",
       "      <th>160</th>\n",
       "      <td>17394.021398</td>\n",
       "      <td>20389.194691</td>\n",
       "    </tr>\n",
       "  </tbody>\n",
       "</table>\n",
       "<p>161 rows × 2 columns</p>\n",
       "</div>"
      ],
      "text/plain": [
       "           Actual     Predicted\n",
       "0    14862.093870  26841.569929\n",
       "1    16256.236168  23107.117980\n",
       "2    15802.652861  10715.787911\n",
       "3    45061.951935  33065.377426\n",
       "4    12425.389171  14351.796236\n",
       "..            ...           ...\n",
       "156  18548.978593  23567.742988\n",
       "157  36332.894685  33476.069241\n",
       "158  21683.031464  20174.792218\n",
       "159  18040.144006  31235.598323\n",
       "160  17394.021398  20389.194691\n",
       "\n",
       "[161 rows x 2 columns]"
      ]
     },
     "execution_count": 30,
     "metadata": {},
     "output_type": "execute_result"
    }
   ],
   "source": [
    "y_pred = regressor.predict(X_test_scaled) # given the features of the test dataset, it will give the final predictions\n",
    "\"Syntax : varName.predict(test_features)\"\n",
    "#(y_pred)\n",
    "df1 = pd.DataFrame({'Actual': y_test, 'Predicted': y_pred})\n",
    "df1"
   ]
  },
  {
   "cell_type": "code",
   "execution_count": 31,
   "metadata": {},
   "outputs": [
    {
     "name": "stdout",
     "output_type": "stream",
     "text": [
      "R2- SCORE: 0.34021415975117064\n",
      "intercept: 21286.771470559223\n",
      "coefficients: [-1371.0011684   5362.75715593  -636.10279397 -1161.42189697\n",
      "  2605.28366558 -1046.23562996  1599.92392244]\n"
     ]
    }
   ],
   "source": [
    "\n",
    "#print('Linear regression equation y={}x+ {}'.format(regressor.coef_[0], regressor.intercept_))\n",
    "from sklearn import metrics\n",
    "print('R2- SCORE:', metrics.r2_score(y_test,y_pred)) \n",
    "\n",
    "print('intercept:', regressor.intercept_)# slope m\n",
    "print('coefficients:', regressor.coef_)# intercept C\n",
    "#print('R2-score:', regressor.score(X_train_scaled, y_train))"
   ]
  },
  {
   "cell_type": "markdown",
   "metadata": {},
   "source": [
    "can't say this is a good fit"
   ]
  },
  {
   "cell_type": "code",
   "execution_count": 32,
   "metadata": {},
   "outputs": [
    {
     "name": "stdout",
     "output_type": "stream",
     "text": [
      "[['Mileage'], ['Cylinder'], ['Mileage', 'Cylinder'], ['Liter'], ['Mileage', 'Liter'], ['Cylinder', 'Liter'], ['Mileage', 'Cylinder', 'Liter'], ['Doors'], ['Mileage', 'Doors'], ['Cylinder', 'Doors'], ['Mileage', 'Cylinder', 'Doors'], ['Liter', 'Doors'], ['Mileage', 'Liter', 'Doors'], ['Cylinder', 'Liter', 'Doors'], ['Mileage', 'Cylinder', 'Liter', 'Doors'], ['Cruise'], ['Mileage', 'Cruise'], ['Cylinder', 'Cruise'], ['Mileage', 'Cylinder', 'Cruise'], ['Liter', 'Cruise'], ['Mileage', 'Liter', 'Cruise'], ['Cylinder', 'Liter', 'Cruise'], ['Mileage', 'Cylinder', 'Liter', 'Cruise'], ['Doors', 'Cruise'], ['Mileage', 'Doors', 'Cruise'], ['Cylinder', 'Doors', 'Cruise'], ['Mileage', 'Cylinder', 'Doors', 'Cruise'], ['Liter', 'Doors', 'Cruise'], ['Mileage', 'Liter', 'Doors', 'Cruise'], ['Cylinder', 'Liter', 'Doors', 'Cruise'], ['Mileage', 'Cylinder', 'Liter', 'Doors', 'Cruise'], ['Sound'], ['Mileage', 'Sound'], ['Cylinder', 'Sound'], ['Mileage', 'Cylinder', 'Sound'], ['Liter', 'Sound'], ['Mileage', 'Liter', 'Sound'], ['Cylinder', 'Liter', 'Sound'], ['Mileage', 'Cylinder', 'Liter', 'Sound'], ['Doors', 'Sound'], ['Mileage', 'Doors', 'Sound'], ['Cylinder', 'Doors', 'Sound'], ['Mileage', 'Cylinder', 'Doors', 'Sound'], ['Liter', 'Doors', 'Sound'], ['Mileage', 'Liter', 'Doors', 'Sound'], ['Cylinder', 'Liter', 'Doors', 'Sound'], ['Mileage', 'Cylinder', 'Liter', 'Doors', 'Sound'], ['Cruise', 'Sound'], ['Mileage', 'Cruise', 'Sound'], ['Cylinder', 'Cruise', 'Sound'], ['Mileage', 'Cylinder', 'Cruise', 'Sound'], ['Liter', 'Cruise', 'Sound'], ['Mileage', 'Liter', 'Cruise', 'Sound'], ['Cylinder', 'Liter', 'Cruise', 'Sound'], ['Mileage', 'Cylinder', 'Liter', 'Cruise', 'Sound'], ['Doors', 'Cruise', 'Sound'], ['Mileage', 'Doors', 'Cruise', 'Sound'], ['Cylinder', 'Doors', 'Cruise', 'Sound'], ['Mileage', 'Cylinder', 'Doors', 'Cruise', 'Sound'], ['Liter', 'Doors', 'Cruise', 'Sound'], ['Mileage', 'Liter', 'Doors', 'Cruise', 'Sound'], ['Cylinder', 'Liter', 'Doors', 'Cruise', 'Sound'], ['Mileage', 'Cylinder', 'Liter', 'Doors', 'Cruise', 'Sound'], ['Leather'], ['Mileage', 'Leather'], ['Cylinder', 'Leather'], ['Mileage', 'Cylinder', 'Leather'], ['Liter', 'Leather'], ['Mileage', 'Liter', 'Leather'], ['Cylinder', 'Liter', 'Leather'], ['Mileage', 'Cylinder', 'Liter', 'Leather'], ['Doors', 'Leather'], ['Mileage', 'Doors', 'Leather'], ['Cylinder', 'Doors', 'Leather'], ['Mileage', 'Cylinder', 'Doors', 'Leather'], ['Liter', 'Doors', 'Leather'], ['Mileage', 'Liter', 'Doors', 'Leather'], ['Cylinder', 'Liter', 'Doors', 'Leather'], ['Mileage', 'Cylinder', 'Liter', 'Doors', 'Leather'], ['Cruise', 'Leather'], ['Mileage', 'Cruise', 'Leather'], ['Cylinder', 'Cruise', 'Leather'], ['Mileage', 'Cylinder', 'Cruise', 'Leather'], ['Liter', 'Cruise', 'Leather'], ['Mileage', 'Liter', 'Cruise', 'Leather'], ['Cylinder', 'Liter', 'Cruise', 'Leather'], ['Mileage', 'Cylinder', 'Liter', 'Cruise', 'Leather'], ['Doors', 'Cruise', 'Leather'], ['Mileage', 'Doors', 'Cruise', 'Leather'], ['Cylinder', 'Doors', 'Cruise', 'Leather'], ['Mileage', 'Cylinder', 'Doors', 'Cruise', 'Leather'], ['Liter', 'Doors', 'Cruise', 'Leather'], ['Mileage', 'Liter', 'Doors', 'Cruise', 'Leather'], ['Cylinder', 'Liter', 'Doors', 'Cruise', 'Leather'], ['Mileage', 'Cylinder', 'Liter', 'Doors', 'Cruise', 'Leather'], ['Sound', 'Leather'], ['Mileage', 'Sound', 'Leather'], ['Cylinder', 'Sound', 'Leather'], ['Mileage', 'Cylinder', 'Sound', 'Leather'], ['Liter', 'Sound', 'Leather'], ['Mileage', 'Liter', 'Sound', 'Leather'], ['Cylinder', 'Liter', 'Sound', 'Leather'], ['Mileage', 'Cylinder', 'Liter', 'Sound', 'Leather'], ['Doors', 'Sound', 'Leather'], ['Mileage', 'Doors', 'Sound', 'Leather'], ['Cylinder', 'Doors', 'Sound', 'Leather'], ['Mileage', 'Cylinder', 'Doors', 'Sound', 'Leather'], ['Liter', 'Doors', 'Sound', 'Leather'], ['Mileage', 'Liter', 'Doors', 'Sound', 'Leather'], ['Cylinder', 'Liter', 'Doors', 'Sound', 'Leather'], ['Mileage', 'Cylinder', 'Liter', 'Doors', 'Sound', 'Leather'], ['Cruise', 'Sound', 'Leather'], ['Mileage', 'Cruise', 'Sound', 'Leather'], ['Cylinder', 'Cruise', 'Sound', 'Leather'], ['Mileage', 'Cylinder', 'Cruise', 'Sound', 'Leather'], ['Liter', 'Cruise', 'Sound', 'Leather'], ['Mileage', 'Liter', 'Cruise', 'Sound', 'Leather'], ['Cylinder', 'Liter', 'Cruise', 'Sound', 'Leather'], ['Mileage', 'Cylinder', 'Liter', 'Cruise', 'Sound', 'Leather'], ['Doors', 'Cruise', 'Sound', 'Leather'], ['Mileage', 'Doors', 'Cruise', 'Sound', 'Leather'], ['Cylinder', 'Doors', 'Cruise', 'Sound', 'Leather'], ['Mileage', 'Cylinder', 'Doors', 'Cruise', 'Sound', 'Leather'], ['Liter', 'Doors', 'Cruise', 'Sound', 'Leather'], ['Mileage', 'Liter', 'Doors', 'Cruise', 'Sound', 'Leather'], ['Cylinder', 'Liter', 'Doors', 'Cruise', 'Sound', 'Leather'], ['Mileage', 'Cylinder', 'Liter', 'Doors', 'Cruise', 'Sound', 'Leather']]\n",
      "127\n"
     ]
    }
   ],
   "source": [
    "def combinations(L):\n",
    "    if L:\n",
    "        result=combinations(L[:-1])\n",
    "        return result+[i+[L[-1]] for i in result]\n",
    "    else: \n",
    "        return [[]]\n",
    "    \n",
    "#n=int(input())    \n",
    "#jlist=list(map(int,input().split(\" \")))[:n]\n",
    "combi=combinations(['Mileage','Cylinder','Liter', 'Doors', 'Cruise', 'Sound', 'Leather'])\n",
    "combi=combi[1:]\n",
    "print(combi) \n",
    "print(len(combi))  "
   ]
  },
  {
   "cell_type": "code",
   "execution_count": 33,
   "metadata": {},
   "outputs": [
    {
     "data": {
      "text/plain": [
       "Index(['Price', 'Mileage', 'Make', 'Model', 'Trim', 'Type', 'Cylinder',\n",
       "       'Liter', 'Doors', 'Cruise', 'Sound', 'Leather'],\n",
       "      dtype='object')"
      ]
     },
     "execution_count": 33,
     "metadata": {},
     "output_type": "execute_result"
    }
   ],
   "source": [
    "df.columns"
   ]
  },
  {
   "cell_type": "code",
   "execution_count": 34,
   "metadata": {},
   "outputs": [],
   "source": [
    "R2_Scores=[]\n",
    "for i in combi:\n",
    "  x_combi=df[i].values #combinations of features\n",
    "  y = df['Price'].values #array of targets\n",
    "\n",
    "\n",
    "  from sklearn.model_selection import train_test_split\n",
    "  X_train, X_test, y_train, y_test = train_test_split(x_combi, y, test_size=0.2, random_state=0)\n",
    "\n",
    "  from sklearn.preprocessing import StandardScaler ## standrard scaling \n",
    "  scaler=StandardScaler()#initialise to a variable\n",
    "  scaler.fit(X_train) # we are finding the values of mean and sd from the td\n",
    "  X_train_scaled=scaler.transform(X_train)# fit (mean, sd) and then transform the training data\n",
    "  X_test_scaled=scaler.transform(X_test) #only transform the test dataset, dont fit it\n",
    "\n",
    " #model training\n",
    "  from sklearn.linear_model import LinearRegression\n",
    "  regressor = LinearRegression()\n",
    "  regressor.fit(X_train_scaled, y_train)\n",
    "\n",
    "  y_pred = regressor.predict(X_test_scaled) # given the features of the test dataset, it will give the final predictions\n",
    "  from sklearn import metrics\n",
    "  R2_Scores.append(metrics.r2_score(y_test,y_pred))"
   ]
  },
  {
   "cell_type": "code",
   "execution_count": 35,
   "metadata": {},
   "outputs": [
    {
     "data": {
      "text/html": [
       "<div>\n",
       "<style scoped>\n",
       "    .dataframe tbody tr th:only-of-type {\n",
       "        vertical-align: middle;\n",
       "    }\n",
       "\n",
       "    .dataframe tbody tr th {\n",
       "        vertical-align: top;\n",
       "    }\n",
       "\n",
       "    .dataframe thead th {\n",
       "        text-align: right;\n",
       "    }\n",
       "</style>\n",
       "<table border=\"1\" class=\"dataframe\">\n",
       "  <thead>\n",
       "    <tr style=\"text-align: right;\">\n",
       "      <th></th>\n",
       "      <th>Feature_combinations</th>\n",
       "      <th>R2_Scores</th>\n",
       "    </tr>\n",
       "  </thead>\n",
       "  <tbody>\n",
       "    <tr>\n",
       "      <th>0</th>\n",
       "      <td>[Mileage]</td>\n",
       "      <td>0.016518</td>\n",
       "    </tr>\n",
       "    <tr>\n",
       "      <th>1</th>\n",
       "      <td>[Cylinder]</td>\n",
       "      <td>0.198258</td>\n",
       "    </tr>\n",
       "    <tr>\n",
       "      <th>2</th>\n",
       "      <td>[Mileage, Cylinder]</td>\n",
       "      <td>0.218955</td>\n",
       "    </tr>\n",
       "    <tr>\n",
       "      <th>3</th>\n",
       "      <td>[Liter]</td>\n",
       "      <td>0.197812</td>\n",
       "    </tr>\n",
       "    <tr>\n",
       "      <th>4</th>\n",
       "      <td>[Mileage, Liter]</td>\n",
       "      <td>0.222869</td>\n",
       "    </tr>\n",
       "    <tr>\n",
       "      <th>...</th>\n",
       "      <td>...</td>\n",
       "      <td>...</td>\n",
       "    </tr>\n",
       "    <tr>\n",
       "      <th>122</th>\n",
       "      <td>[Mileage, Cylinder, Doors, Cruise, Sound, Leat...</td>\n",
       "      <td>0.338536</td>\n",
       "    </tr>\n",
       "    <tr>\n",
       "      <th>123</th>\n",
       "      <td>[Liter, Doors, Cruise, Sound, Leather]</td>\n",
       "      <td>0.291480</td>\n",
       "    </tr>\n",
       "    <tr>\n",
       "      <th>124</th>\n",
       "      <td>[Mileage, Liter, Doors, Cruise, Sound, Leather]</td>\n",
       "      <td>0.320187</td>\n",
       "    </tr>\n",
       "    <tr>\n",
       "      <th>125</th>\n",
       "      <td>[Cylinder, Liter, Doors, Cruise, Sound, Leather]</td>\n",
       "      <td>0.316564</td>\n",
       "    </tr>\n",
       "    <tr>\n",
       "      <th>126</th>\n",
       "      <td>[Mileage, Cylinder, Liter, Doors, Cruise, Soun...</td>\n",
       "      <td>0.340214</td>\n",
       "    </tr>\n",
       "  </tbody>\n",
       "</table>\n",
       "<p>127 rows × 2 columns</p>\n",
       "</div>"
      ],
      "text/plain": [
       "                                  Feature_combinations  R2_Scores\n",
       "0                                            [Mileage]   0.016518\n",
       "1                                           [Cylinder]   0.198258\n",
       "2                                  [Mileage, Cylinder]   0.218955\n",
       "3                                              [Liter]   0.197812\n",
       "4                                     [Mileage, Liter]   0.222869\n",
       "..                                                 ...        ...\n",
       "122  [Mileage, Cylinder, Doors, Cruise, Sound, Leat...   0.338536\n",
       "123             [Liter, Doors, Cruise, Sound, Leather]   0.291480\n",
       "124    [Mileage, Liter, Doors, Cruise, Sound, Leather]   0.320187\n",
       "125   [Cylinder, Liter, Doors, Cruise, Sound, Leather]   0.316564\n",
       "126  [Mileage, Cylinder, Liter, Doors, Cruise, Soun...   0.340214\n",
       "\n",
       "[127 rows x 2 columns]"
      ]
     },
     "execution_count": 35,
     "metadata": {},
     "output_type": "execute_result"
    }
   ],
   "source": [
    "df2 = pd.DataFrame({'Feature_combinations': combi, 'R2_Scores': R2_Scores})\n",
    "df2"
   ]
  },
  {
   "cell_type": "code",
   "execution_count": 36,
   "metadata": {},
   "outputs": [
    {
     "data": {
      "text/plain": [
       "0.3415594929692144"
      ]
     },
     "execution_count": 36,
     "metadata": {},
     "output_type": "execute_result"
    }
   ],
   "source": [
    "df2[\"R2_Scores\"].max()"
   ]
  },
  {
   "cell_type": "code",
   "execution_count": 37,
   "metadata": {},
   "outputs": [
    {
     "data": {
      "text/plain": [
       "94"
      ]
     },
     "execution_count": 37,
     "metadata": {},
     "output_type": "execute_result"
    }
   ],
   "source": [
    "df2[\"R2_Scores\"].argmax()"
   ]
  },
  {
   "cell_type": "code",
   "execution_count": 38,
   "metadata": {},
   "outputs": [
    {
     "data": {
      "text/plain": [
       "['Mileage', 'Cylinder', 'Liter', 'Doors', 'Cruise', 'Leather']"
      ]
     },
     "execution_count": 38,
     "metadata": {},
     "output_type": "execute_result"
    }
   ],
   "source": [
    "df2[\"Feature_combinations\"][df2[\"R2_Scores\"].argmax()]"
   ]
  },
  {
   "cell_type": "markdown",
   "metadata": {},
   "source": [
    "the combination of factors which gave the maximum r2 score is ['Mileage', 'Cylinder', 'Liter', 'Doors', 'Cruise', 'Leather']].\n",
    "\n",
    "But that maximum R2 score is not a good fit as it was 0.3415594929692144\n"
   ]
  },
  {
   "cell_type": "markdown",
   "metadata": {},
   "source": [
    "Tasks, Hard Mode\n",
    "Research dummy variables in scikit-learn to see how to use the make, model, and body type.\n",
    "\n",
    "Find the best combination of factors to predict price."
   ]
  },
  {
   "cell_type": "code",
   "execution_count": 39,
   "metadata": {},
   "outputs": [
    {
     "data": {
      "text/html": [
       "<div>\n",
       "<style scoped>\n",
       "    .dataframe tbody tr th:only-of-type {\n",
       "        vertical-align: middle;\n",
       "    }\n",
       "\n",
       "    .dataframe tbody tr th {\n",
       "        vertical-align: top;\n",
       "    }\n",
       "\n",
       "    .dataframe thead th {\n",
       "        text-align: right;\n",
       "    }\n",
       "</style>\n",
       "<table border=\"1\" class=\"dataframe\">\n",
       "  <thead>\n",
       "    <tr style=\"text-align: right;\">\n",
       "      <th></th>\n",
       "      <th>Feature</th>\n",
       "      <th>Unique</th>\n",
       "    </tr>\n",
       "  </thead>\n",
       "  <tbody>\n",
       "    <tr>\n",
       "      <th>0</th>\n",
       "      <td>Price</td>\n",
       "      <td>798</td>\n",
       "    </tr>\n",
       "    <tr>\n",
       "      <th>1</th>\n",
       "      <td>Mileage</td>\n",
       "      <td>791</td>\n",
       "    </tr>\n",
       "    <tr>\n",
       "      <th>2</th>\n",
       "      <td>Make</td>\n",
       "      <td>6</td>\n",
       "    </tr>\n",
       "    <tr>\n",
       "      <th>3</th>\n",
       "      <td>Model</td>\n",
       "      <td>32</td>\n",
       "    </tr>\n",
       "    <tr>\n",
       "      <th>4</th>\n",
       "      <td>Trim</td>\n",
       "      <td>47</td>\n",
       "    </tr>\n",
       "    <tr>\n",
       "      <th>5</th>\n",
       "      <td>Type</td>\n",
       "      <td>5</td>\n",
       "    </tr>\n",
       "    <tr>\n",
       "      <th>6</th>\n",
       "      <td>Cylinder</td>\n",
       "      <td>3</td>\n",
       "    </tr>\n",
       "    <tr>\n",
       "      <th>7</th>\n",
       "      <td>Liter</td>\n",
       "      <td>16</td>\n",
       "    </tr>\n",
       "    <tr>\n",
       "      <th>8</th>\n",
       "      <td>Doors</td>\n",
       "      <td>2</td>\n",
       "    </tr>\n",
       "    <tr>\n",
       "      <th>9</th>\n",
       "      <td>Cruise</td>\n",
       "      <td>2</td>\n",
       "    </tr>\n",
       "    <tr>\n",
       "      <th>10</th>\n",
       "      <td>Sound</td>\n",
       "      <td>2</td>\n",
       "    </tr>\n",
       "    <tr>\n",
       "      <th>11</th>\n",
       "      <td>Leather</td>\n",
       "      <td>2</td>\n",
       "    </tr>\n",
       "  </tbody>\n",
       "</table>\n",
       "</div>"
      ],
      "text/plain": [
       "     Feature  Unique\n",
       "0      Price     798\n",
       "1    Mileage     791\n",
       "2       Make       6\n",
       "3      Model      32\n",
       "4       Trim      47\n",
       "5       Type       5\n",
       "6   Cylinder       3\n",
       "7      Liter      16\n",
       "8      Doors       2\n",
       "9     Cruise       2\n",
       "10     Sound       2\n",
       "11   Leather       2"
      ]
     },
     "execution_count": 39,
     "metadata": {},
     "output_type": "execute_result"
    }
   ],
   "source": [
    "temp = pd.DataFrame([[col,len(df[col].unique())] for col in df.columns])\n",
    "temp.columns = ['Feature', 'Unique']\n",
    "temp"
   ]
  },
  {
   "cell_type": "markdown",
   "metadata": {},
   "source": [
    "eventhough there are only 4 object types data , the columns[\"Cruise\",\"Sound\",\"Leather\"] are binary coded with 2 unique values each and [\"Doors\"] also has only 2 unique values these 4 can also be considered categorical variables.\n",
    "\n",
    "also,cylinder(3) and liter(16) are also categorical\n",
    "\n",
    "so except mileage and price all other variables are caytegorrical. now we need to see if we can drop any of these based on correlation."
   ]
  },
  {
   "cell_type": "code",
   "execution_count": 40,
   "metadata": {},
   "outputs": [
    {
     "data": {
      "text/html": [
       "<div>\n",
       "<style scoped>\n",
       "    .dataframe tbody tr th:only-of-type {\n",
       "        vertical-align: middle;\n",
       "    }\n",
       "\n",
       "    .dataframe tbody tr th {\n",
       "        vertical-align: top;\n",
       "    }\n",
       "\n",
       "    .dataframe thead th {\n",
       "        text-align: right;\n",
       "    }\n",
       "</style>\n",
       "<table border=\"1\" class=\"dataframe\">\n",
       "  <thead>\n",
       "    <tr style=\"text-align: right;\">\n",
       "      <th></th>\n",
       "      <th>Price</th>\n",
       "      <th>Mileage</th>\n",
       "      <th>Cylinder</th>\n",
       "      <th>Liter</th>\n",
       "      <th>Doors</th>\n",
       "      <th>Cruise</th>\n",
       "      <th>Sound</th>\n",
       "      <th>Leather</th>\n",
       "    </tr>\n",
       "  </thead>\n",
       "  <tbody>\n",
       "    <tr>\n",
       "      <th>Price</th>\n",
       "      <td>1.000000</td>\n",
       "      <td>-0.143051</td>\n",
       "      <td>0.569086</td>\n",
       "      <td>0.558146</td>\n",
       "      <td>-0.138750</td>\n",
       "      <td>0.430851</td>\n",
       "      <td>-0.124348</td>\n",
       "      <td>0.157197</td>\n",
       "    </tr>\n",
       "    <tr>\n",
       "      <th>Mileage</th>\n",
       "      <td>-0.143051</td>\n",
       "      <td>1.000000</td>\n",
       "      <td>-0.029461</td>\n",
       "      <td>-0.018641</td>\n",
       "      <td>-0.016944</td>\n",
       "      <td>0.025037</td>\n",
       "      <td>-0.026146</td>\n",
       "      <td>0.001005</td>\n",
       "    </tr>\n",
       "    <tr>\n",
       "      <th>Cylinder</th>\n",
       "      <td>0.569086</td>\n",
       "      <td>-0.029461</td>\n",
       "      <td>1.000000</td>\n",
       "      <td>0.957897</td>\n",
       "      <td>0.002206</td>\n",
       "      <td>0.354285</td>\n",
       "      <td>-0.089704</td>\n",
       "      <td>0.075520</td>\n",
       "    </tr>\n",
       "    <tr>\n",
       "      <th>Liter</th>\n",
       "      <td>0.558146</td>\n",
       "      <td>-0.018641</td>\n",
       "      <td>0.957897</td>\n",
       "      <td>1.000000</td>\n",
       "      <td>-0.079259</td>\n",
       "      <td>0.377509</td>\n",
       "      <td>-0.065527</td>\n",
       "      <td>0.087332</td>\n",
       "    </tr>\n",
       "    <tr>\n",
       "      <th>Doors</th>\n",
       "      <td>-0.138750</td>\n",
       "      <td>-0.016944</td>\n",
       "      <td>0.002206</td>\n",
       "      <td>-0.079259</td>\n",
       "      <td>1.000000</td>\n",
       "      <td>-0.047674</td>\n",
       "      <td>-0.062530</td>\n",
       "      <td>-0.061969</td>\n",
       "    </tr>\n",
       "    <tr>\n",
       "      <th>Cruise</th>\n",
       "      <td>0.430851</td>\n",
       "      <td>0.025037</td>\n",
       "      <td>0.354285</td>\n",
       "      <td>0.377509</td>\n",
       "      <td>-0.047674</td>\n",
       "      <td>1.000000</td>\n",
       "      <td>-0.091730</td>\n",
       "      <td>-0.070573</td>\n",
       "    </tr>\n",
       "    <tr>\n",
       "      <th>Sound</th>\n",
       "      <td>-0.124348</td>\n",
       "      <td>-0.026146</td>\n",
       "      <td>-0.089704</td>\n",
       "      <td>-0.065527</td>\n",
       "      <td>-0.062530</td>\n",
       "      <td>-0.091730</td>\n",
       "      <td>1.000000</td>\n",
       "      <td>0.165444</td>\n",
       "    </tr>\n",
       "    <tr>\n",
       "      <th>Leather</th>\n",
       "      <td>0.157197</td>\n",
       "      <td>0.001005</td>\n",
       "      <td>0.075520</td>\n",
       "      <td>0.087332</td>\n",
       "      <td>-0.061969</td>\n",
       "      <td>-0.070573</td>\n",
       "      <td>0.165444</td>\n",
       "      <td>1.000000</td>\n",
       "    </tr>\n",
       "  </tbody>\n",
       "</table>\n",
       "</div>"
      ],
      "text/plain": [
       "             Price   Mileage  Cylinder     Liter     Doors    Cruise  \\\n",
       "Price     1.000000 -0.143051  0.569086  0.558146 -0.138750  0.430851   \n",
       "Mileage  -0.143051  1.000000 -0.029461 -0.018641 -0.016944  0.025037   \n",
       "Cylinder  0.569086 -0.029461  1.000000  0.957897  0.002206  0.354285   \n",
       "Liter     0.558146 -0.018641  0.957897  1.000000 -0.079259  0.377509   \n",
       "Doors    -0.138750 -0.016944  0.002206 -0.079259  1.000000 -0.047674   \n",
       "Cruise    0.430851  0.025037  0.354285  0.377509 -0.047674  1.000000   \n",
       "Sound    -0.124348 -0.026146 -0.089704 -0.065527 -0.062530 -0.091730   \n",
       "Leather   0.157197  0.001005  0.075520  0.087332 -0.061969 -0.070573   \n",
       "\n",
       "             Sound   Leather  \n",
       "Price    -0.124348  0.157197  \n",
       "Mileage  -0.026146  0.001005  \n",
       "Cylinder -0.089704  0.075520  \n",
       "Liter    -0.065527  0.087332  \n",
       "Doors    -0.062530 -0.061969  \n",
       "Cruise   -0.091730 -0.070573  \n",
       "Sound     1.000000  0.165444  \n",
       "Leather   0.165444  1.000000  "
      ]
     },
     "execution_count": 40,
     "metadata": {},
     "output_type": "execute_result"
    }
   ],
   "source": [
    "df.corr()"
   ]
  },
  {
   "cell_type": "markdown",
   "metadata": {},
   "source": [
    "as we can see here Cylinder has a corr of 0.569 and liter has a corr of 0.558. both are positively correlated with \"Price\". Since we are about to OneHot Encode every categorical variable, and we have highly correlted [\"Liter\", \"Cylinder\"] , we can drop ['liter'] column as it has 16 unique values, also this will lead to numerical instability of the model.\n",
    "\n",
    "\"For linear models (e.g., linear regression or logistic regression), multicolinearity can yield solutions that are wildly varying and possibly numerically unstable.\"\n",
    "\n",
    "as we can see all categorical features are nominal variables(ie) there is no order in them.\n",
    "\n",
    "nominal variables are encoded using Scikit-learn OneHotEncoder while ordinal variables are encoded using Scikit-learn OrdinalEncoder.\n",
    "\n",
    "But we have numerous unique items in each category, which when one hot encoded will add numerous columns to data frame."
   ]
  },
  {
   "cell_type": "code",
   "execution_count": 41,
   "metadata": {},
   "outputs": [
    {
     "data": {
      "text/html": [
       "<div>\n",
       "<style scoped>\n",
       "    .dataframe tbody tr th:only-of-type {\n",
       "        vertical-align: middle;\n",
       "    }\n",
       "\n",
       "    .dataframe tbody tr th {\n",
       "        vertical-align: top;\n",
       "    }\n",
       "\n",
       "    .dataframe thead th {\n",
       "        text-align: right;\n",
       "    }\n",
       "</style>\n",
       "<table border=\"1\" class=\"dataframe\">\n",
       "  <thead>\n",
       "    <tr style=\"text-align: right;\">\n",
       "      <th></th>\n",
       "      <th>Price</th>\n",
       "      <th>Mileage</th>\n",
       "      <th>Make</th>\n",
       "      <th>Model</th>\n",
       "      <th>Trim</th>\n",
       "      <th>Type</th>\n",
       "      <th>Cylinder</th>\n",
       "      <th>Doors</th>\n",
       "      <th>Cruise</th>\n",
       "      <th>Sound</th>\n",
       "      <th>Leather</th>\n",
       "    </tr>\n",
       "  </thead>\n",
       "  <tbody>\n",
       "    <tr>\n",
       "      <th>0</th>\n",
       "      <td>17314.103129</td>\n",
       "      <td>8221</td>\n",
       "      <td>Buick</td>\n",
       "      <td>Century</td>\n",
       "      <td>Sedan 4D</td>\n",
       "      <td>Sedan</td>\n",
       "      <td>6</td>\n",
       "      <td>4</td>\n",
       "      <td>1</td>\n",
       "      <td>1</td>\n",
       "      <td>1</td>\n",
       "    </tr>\n",
       "    <tr>\n",
       "      <th>1</th>\n",
       "      <td>17542.036083</td>\n",
       "      <td>9135</td>\n",
       "      <td>Buick</td>\n",
       "      <td>Century</td>\n",
       "      <td>Sedan 4D</td>\n",
       "      <td>Sedan</td>\n",
       "      <td>6</td>\n",
       "      <td>4</td>\n",
       "      <td>1</td>\n",
       "      <td>1</td>\n",
       "      <td>0</td>\n",
       "    </tr>\n",
       "    <tr>\n",
       "      <th>2</th>\n",
       "      <td>16218.847862</td>\n",
       "      <td>13196</td>\n",
       "      <td>Buick</td>\n",
       "      <td>Century</td>\n",
       "      <td>Sedan 4D</td>\n",
       "      <td>Sedan</td>\n",
       "      <td>6</td>\n",
       "      <td>4</td>\n",
       "      <td>1</td>\n",
       "      <td>1</td>\n",
       "      <td>0</td>\n",
       "    </tr>\n",
       "    <tr>\n",
       "      <th>3</th>\n",
       "      <td>16336.913140</td>\n",
       "      <td>16342</td>\n",
       "      <td>Buick</td>\n",
       "      <td>Century</td>\n",
       "      <td>Sedan 4D</td>\n",
       "      <td>Sedan</td>\n",
       "      <td>6</td>\n",
       "      <td>4</td>\n",
       "      <td>1</td>\n",
       "      <td>0</td>\n",
       "      <td>0</td>\n",
       "    </tr>\n",
       "    <tr>\n",
       "      <th>4</th>\n",
       "      <td>16339.170324</td>\n",
       "      <td>19832</td>\n",
       "      <td>Buick</td>\n",
       "      <td>Century</td>\n",
       "      <td>Sedan 4D</td>\n",
       "      <td>Sedan</td>\n",
       "      <td>6</td>\n",
       "      <td>4</td>\n",
       "      <td>1</td>\n",
       "      <td>0</td>\n",
       "      <td>1</td>\n",
       "    </tr>\n",
       "  </tbody>\n",
       "</table>\n",
       "</div>"
      ],
      "text/plain": [
       "          Price  Mileage   Make    Model      Trim   Type  Cylinder  Doors  \\\n",
       "0  17314.103129     8221  Buick  Century  Sedan 4D  Sedan         6      4   \n",
       "1  17542.036083     9135  Buick  Century  Sedan 4D  Sedan         6      4   \n",
       "2  16218.847862    13196  Buick  Century  Sedan 4D  Sedan         6      4   \n",
       "3  16336.913140    16342  Buick  Century  Sedan 4D  Sedan         6      4   \n",
       "4  16339.170324    19832  Buick  Century  Sedan 4D  Sedan         6      4   \n",
       "\n",
       "   Cruise  Sound  Leather  \n",
       "0       1      1        1  \n",
       "1       1      1        0  \n",
       "2       1      1        0  \n",
       "3       1      0        0  \n",
       "4       1      0        1  "
      ]
     },
     "execution_count": 41,
     "metadata": {},
     "output_type": "execute_result"
    }
   ],
   "source": [
    "df = pd.read_csv(\"car_data.csv\")\n",
    "df.drop(columns = [\"Liter\"], axis=1, inplace= True)\n",
    "df.head()"
   ]
  },
  {
   "cell_type": "code",
   "execution_count": 42,
   "metadata": {},
   "outputs": [
    {
     "name": "stdout",
     "output_type": "stream",
     "text": [
      "Categorical Variables\n",
      " ['Make', 'Model', 'Type', 'Cylinder', 'Doors', 'Cruise', 'Sound', 'Leather', 'Trim'] \n",
      "\n",
      " Continuous Variables\n",
      " ['Price', 'Mileage']\n"
     ]
    }
   ],
   "source": [
    "cat_var = ['Make','Model','Type','Cylinder','Doors','Cruise','Sound','Leather','Trim']\n",
    "con_var = list(set(df.columns) - set(cat_var))\n",
    "\n",
    "print('Categorical Variables\\n',cat_var,'\\n\\n',\n",
    "      'Continuous Variables\\n', con_var)"
   ]
  },
  {
   "cell_type": "code",
   "execution_count": null,
   "metadata": {},
   "outputs": [],
   "source": [
    "for i in combi:\n",
    "  x_combi=[]\n",
    "  for j in i:\n",
    "    if j in cat_var:\n",
    "      encoded = pd.get_dummies(df, columns =i, drop_first = False)\n",
    "      x_combi=(df[encoded].values) #combinations of features\n",
    "    else:\n",
    "      X_combi=(df[i])\n",
    "  #x_=[(pd.get_dummies(j)) for j in i if j in cat_var]\n",
    "  y = df['Price'].values #array of targets\n",
    "\n",
    "  #encoding\n",
    "  #dummy encoding/oneHotEncoding cat variables\n",
    "\n",
    " # df = pd.get_dummies(df, columns = cat_var, drop_first = False)"
   ]
  },
  {
   "cell_type": "code",
   "execution_count": 44,
   "metadata": {},
   "outputs": [
    {
     "data": {
      "text/html": [
       "<div>\n",
       "<style scoped>\n",
       "    .dataframe tbody tr th:only-of-type {\n",
       "        vertical-align: middle;\n",
       "    }\n",
       "\n",
       "    .dataframe tbody tr th {\n",
       "        vertical-align: top;\n",
       "    }\n",
       "\n",
       "    .dataframe thead th {\n",
       "        text-align: right;\n",
       "    }\n",
       "</style>\n",
       "<table border=\"1\" class=\"dataframe\">\n",
       "  <thead>\n",
       "    <tr style=\"text-align: right;\">\n",
       "      <th></th>\n",
       "      <th>Price</th>\n",
       "      <th>Mileage</th>\n",
       "      <th>Cylinder</th>\n",
       "      <th>Doors</th>\n",
       "      <th>Cruise</th>\n",
       "      <th>Sound</th>\n",
       "      <th>Leather</th>\n",
       "      <th>Make_Buick</th>\n",
       "      <th>Make_Cadillac</th>\n",
       "      <th>Make_Chevrolet</th>\n",
       "      <th>...</th>\n",
       "      <th>Trim_Quad Coupe 2D</th>\n",
       "      <th>Trim_SE Sedan 4D</th>\n",
       "      <th>Trim_SLE Sedan 4D</th>\n",
       "      <th>Trim_SS Coupe 2D</th>\n",
       "      <th>Trim_SS Sedan 4D</th>\n",
       "      <th>Trim_SVM Hatchback 4D</th>\n",
       "      <th>Trim_SVM Sedan 4D</th>\n",
       "      <th>Trim_Sedan 4D</th>\n",
       "      <th>Trim_Special Ed Ultra 4D</th>\n",
       "      <th>Trim_Sportwagon 4D</th>\n",
       "    </tr>\n",
       "  </thead>\n",
       "  <tbody>\n",
       "    <tr>\n",
       "      <th>0</th>\n",
       "      <td>17314.103129</td>\n",
       "      <td>8221</td>\n",
       "      <td>6</td>\n",
       "      <td>4</td>\n",
       "      <td>1</td>\n",
       "      <td>1</td>\n",
       "      <td>1</td>\n",
       "      <td>1</td>\n",
       "      <td>0</td>\n",
       "      <td>0</td>\n",
       "      <td>...</td>\n",
       "      <td>0</td>\n",
       "      <td>0</td>\n",
       "      <td>0</td>\n",
       "      <td>0</td>\n",
       "      <td>0</td>\n",
       "      <td>0</td>\n",
       "      <td>0</td>\n",
       "      <td>1</td>\n",
       "      <td>0</td>\n",
       "      <td>0</td>\n",
       "    </tr>\n",
       "    <tr>\n",
       "      <th>1</th>\n",
       "      <td>17542.036083</td>\n",
       "      <td>9135</td>\n",
       "      <td>6</td>\n",
       "      <td>4</td>\n",
       "      <td>1</td>\n",
       "      <td>1</td>\n",
       "      <td>0</td>\n",
       "      <td>1</td>\n",
       "      <td>0</td>\n",
       "      <td>0</td>\n",
       "      <td>...</td>\n",
       "      <td>0</td>\n",
       "      <td>0</td>\n",
       "      <td>0</td>\n",
       "      <td>0</td>\n",
       "      <td>0</td>\n",
       "      <td>0</td>\n",
       "      <td>0</td>\n",
       "      <td>1</td>\n",
       "      <td>0</td>\n",
       "      <td>0</td>\n",
       "    </tr>\n",
       "    <tr>\n",
       "      <th>2</th>\n",
       "      <td>16218.847862</td>\n",
       "      <td>13196</td>\n",
       "      <td>6</td>\n",
       "      <td>4</td>\n",
       "      <td>1</td>\n",
       "      <td>1</td>\n",
       "      <td>0</td>\n",
       "      <td>1</td>\n",
       "      <td>0</td>\n",
       "      <td>0</td>\n",
       "      <td>...</td>\n",
       "      <td>0</td>\n",
       "      <td>0</td>\n",
       "      <td>0</td>\n",
       "      <td>0</td>\n",
       "      <td>0</td>\n",
       "      <td>0</td>\n",
       "      <td>0</td>\n",
       "      <td>1</td>\n",
       "      <td>0</td>\n",
       "      <td>0</td>\n",
       "    </tr>\n",
       "    <tr>\n",
       "      <th>3</th>\n",
       "      <td>16336.913140</td>\n",
       "      <td>16342</td>\n",
       "      <td>6</td>\n",
       "      <td>4</td>\n",
       "      <td>1</td>\n",
       "      <td>0</td>\n",
       "      <td>0</td>\n",
       "      <td>1</td>\n",
       "      <td>0</td>\n",
       "      <td>0</td>\n",
       "      <td>...</td>\n",
       "      <td>0</td>\n",
       "      <td>0</td>\n",
       "      <td>0</td>\n",
       "      <td>0</td>\n",
       "      <td>0</td>\n",
       "      <td>0</td>\n",
       "      <td>0</td>\n",
       "      <td>1</td>\n",
       "      <td>0</td>\n",
       "      <td>0</td>\n",
       "    </tr>\n",
       "    <tr>\n",
       "      <th>4</th>\n",
       "      <td>16339.170324</td>\n",
       "      <td>19832</td>\n",
       "      <td>6</td>\n",
       "      <td>4</td>\n",
       "      <td>1</td>\n",
       "      <td>0</td>\n",
       "      <td>1</td>\n",
       "      <td>1</td>\n",
       "      <td>0</td>\n",
       "      <td>0</td>\n",
       "      <td>...</td>\n",
       "      <td>0</td>\n",
       "      <td>0</td>\n",
       "      <td>0</td>\n",
       "      <td>0</td>\n",
       "      <td>0</td>\n",
       "      <td>0</td>\n",
       "      <td>0</td>\n",
       "      <td>1</td>\n",
       "      <td>0</td>\n",
       "      <td>0</td>\n",
       "    </tr>\n",
       "    <tr>\n",
       "      <th>...</th>\n",
       "      <td>...</td>\n",
       "      <td>...</td>\n",
       "      <td>...</td>\n",
       "      <td>...</td>\n",
       "      <td>...</td>\n",
       "      <td>...</td>\n",
       "      <td>...</td>\n",
       "      <td>...</td>\n",
       "      <td>...</td>\n",
       "      <td>...</td>\n",
       "      <td>...</td>\n",
       "      <td>...</td>\n",
       "      <td>...</td>\n",
       "      <td>...</td>\n",
       "      <td>...</td>\n",
       "      <td>...</td>\n",
       "      <td>...</td>\n",
       "      <td>...</td>\n",
       "      <td>...</td>\n",
       "      <td>...</td>\n",
       "      <td>...</td>\n",
       "    </tr>\n",
       "    <tr>\n",
       "      <th>799</th>\n",
       "      <td>16507.070267</td>\n",
       "      <td>16229</td>\n",
       "      <td>6</td>\n",
       "      <td>4</td>\n",
       "      <td>1</td>\n",
       "      <td>0</td>\n",
       "      <td>0</td>\n",
       "      <td>0</td>\n",
       "      <td>0</td>\n",
       "      <td>0</td>\n",
       "      <td>...</td>\n",
       "      <td>0</td>\n",
       "      <td>0</td>\n",
       "      <td>0</td>\n",
       "      <td>0</td>\n",
       "      <td>0</td>\n",
       "      <td>0</td>\n",
       "      <td>0</td>\n",
       "      <td>0</td>\n",
       "      <td>0</td>\n",
       "      <td>0</td>\n",
       "    </tr>\n",
       "    <tr>\n",
       "      <th>800</th>\n",
       "      <td>16175.957604</td>\n",
       "      <td>19095</td>\n",
       "      <td>6</td>\n",
       "      <td>4</td>\n",
       "      <td>1</td>\n",
       "      <td>1</td>\n",
       "      <td>0</td>\n",
       "      <td>0</td>\n",
       "      <td>0</td>\n",
       "      <td>0</td>\n",
       "      <td>...</td>\n",
       "      <td>0</td>\n",
       "      <td>0</td>\n",
       "      <td>0</td>\n",
       "      <td>0</td>\n",
       "      <td>0</td>\n",
       "      <td>0</td>\n",
       "      <td>0</td>\n",
       "      <td>0</td>\n",
       "      <td>0</td>\n",
       "      <td>0</td>\n",
       "    </tr>\n",
       "    <tr>\n",
       "      <th>801</th>\n",
       "      <td>15731.132897</td>\n",
       "      <td>20484</td>\n",
       "      <td>6</td>\n",
       "      <td>4</td>\n",
       "      <td>1</td>\n",
       "      <td>1</td>\n",
       "      <td>0</td>\n",
       "      <td>0</td>\n",
       "      <td>0</td>\n",
       "      <td>0</td>\n",
       "      <td>...</td>\n",
       "      <td>0</td>\n",
       "      <td>0</td>\n",
       "      <td>0</td>\n",
       "      <td>0</td>\n",
       "      <td>0</td>\n",
       "      <td>0</td>\n",
       "      <td>0</td>\n",
       "      <td>0</td>\n",
       "      <td>0</td>\n",
       "      <td>0</td>\n",
       "    </tr>\n",
       "    <tr>\n",
       "      <th>802</th>\n",
       "      <td>15118.893228</td>\n",
       "      <td>25979</td>\n",
       "      <td>6</td>\n",
       "      <td>4</td>\n",
       "      <td>1</td>\n",
       "      <td>1</td>\n",
       "      <td>0</td>\n",
       "      <td>0</td>\n",
       "      <td>0</td>\n",
       "      <td>0</td>\n",
       "      <td>...</td>\n",
       "      <td>0</td>\n",
       "      <td>0</td>\n",
       "      <td>0</td>\n",
       "      <td>0</td>\n",
       "      <td>0</td>\n",
       "      <td>0</td>\n",
       "      <td>0</td>\n",
       "      <td>0</td>\n",
       "      <td>0</td>\n",
       "      <td>0</td>\n",
       "    </tr>\n",
       "    <tr>\n",
       "      <th>803</th>\n",
       "      <td>13585.636802</td>\n",
       "      <td>35662</td>\n",
       "      <td>6</td>\n",
       "      <td>4</td>\n",
       "      <td>1</td>\n",
       "      <td>0</td>\n",
       "      <td>0</td>\n",
       "      <td>0</td>\n",
       "      <td>0</td>\n",
       "      <td>0</td>\n",
       "      <td>...</td>\n",
       "      <td>0</td>\n",
       "      <td>0</td>\n",
       "      <td>0</td>\n",
       "      <td>0</td>\n",
       "      <td>0</td>\n",
       "      <td>0</td>\n",
       "      <td>0</td>\n",
       "      <td>0</td>\n",
       "      <td>0</td>\n",
       "      <td>0</td>\n",
       "    </tr>\n",
       "  </tbody>\n",
       "</table>\n",
       "<p>804 rows × 97 columns</p>\n",
       "</div>"
      ],
      "text/plain": [
       "            Price  Mileage  Cylinder  Doors  Cruise  Sound  Leather  \\\n",
       "0    17314.103129     8221         6      4       1      1        1   \n",
       "1    17542.036083     9135         6      4       1      1        0   \n",
       "2    16218.847862    13196         6      4       1      1        0   \n",
       "3    16336.913140    16342         6      4       1      0        0   \n",
       "4    16339.170324    19832         6      4       1      0        1   \n",
       "..            ...      ...       ...    ...     ...    ...      ...   \n",
       "799  16507.070267    16229         6      4       1      0        0   \n",
       "800  16175.957604    19095         6      4       1      1        0   \n",
       "801  15731.132897    20484         6      4       1      1        0   \n",
       "802  15118.893228    25979         6      4       1      1        0   \n",
       "803  13585.636802    35662         6      4       1      0        0   \n",
       "\n",
       "     Make_Buick  Make_Cadillac  Make_Chevrolet  ...  Trim_Quad Coupe 2D  \\\n",
       "0             1              0               0  ...                   0   \n",
       "1             1              0               0  ...                   0   \n",
       "2             1              0               0  ...                   0   \n",
       "3             1              0               0  ...                   0   \n",
       "4             1              0               0  ...                   0   \n",
       "..          ...            ...             ...  ...                 ...   \n",
       "799           0              0               0  ...                   0   \n",
       "800           0              0               0  ...                   0   \n",
       "801           0              0               0  ...                   0   \n",
       "802           0              0               0  ...                   0   \n",
       "803           0              0               0  ...                   0   \n",
       "\n",
       "     Trim_SE Sedan 4D  Trim_SLE Sedan 4D  Trim_SS Coupe 2D  Trim_SS Sedan 4D  \\\n",
       "0                   0                  0                 0                 0   \n",
       "1                   0                  0                 0                 0   \n",
       "2                   0                  0                 0                 0   \n",
       "3                   0                  0                 0                 0   \n",
       "4                   0                  0                 0                 0   \n",
       "..                ...                ...               ...               ...   \n",
       "799                 0                  0                 0                 0   \n",
       "800                 0                  0                 0                 0   \n",
       "801                 0                  0                 0                 0   \n",
       "802                 0                  0                 0                 0   \n",
       "803                 0                  0                 0                 0   \n",
       "\n",
       "     Trim_SVM Hatchback 4D  Trim_SVM Sedan 4D  Trim_Sedan 4D  \\\n",
       "0                        0                  0              1   \n",
       "1                        0                  0              1   \n",
       "2                        0                  0              1   \n",
       "3                        0                  0              1   \n",
       "4                        0                  0              1   \n",
       "..                     ...                ...            ...   \n",
       "799                      0                  0              0   \n",
       "800                      0                  0              0   \n",
       "801                      0                  0              0   \n",
       "802                      0                  0              0   \n",
       "803                      0                  0              0   \n",
       "\n",
       "     Trim_Special Ed Ultra 4D  Trim_Sportwagon 4D  \n",
       "0                           0                   0  \n",
       "1                           0                   0  \n",
       "2                           0                   0  \n",
       "3                           0                   0  \n",
       "4                           0                   0  \n",
       "..                        ...                 ...  \n",
       "799                         0                   0  \n",
       "800                         0                   0  \n",
       "801                         0                   0  \n",
       "802                         0                   0  \n",
       "803                         0                   0  \n",
       "\n",
       "[804 rows x 97 columns]"
      ]
     },
     "execution_count": 44,
     "metadata": {},
     "output_type": "execute_result"
    }
   ],
   "source": [
    "df= pd.get_dummies(df, columns =['Make', 'Model', 'Type','Trim'], drop_first = False)\n",
    "df"
   ]
  },
  {
   "cell_type": "markdown",
   "metadata": {},
   "source": [
    "from just 11 columns it went to 97 columns after onehot encoding"
   ]
  },
  {
   "cell_type": "code",
   "execution_count": 45,
   "metadata": {},
   "outputs": [],
   "source": [
    "#group features in X and target in  y\n",
    "X= df.iloc[:,1:]\n",
    "y= df.iloc[:,0]"
   ]
  },
  {
   "cell_type": "code",
   "execution_count": 46,
   "metadata": {},
   "outputs": [
    {
     "name": "stdout",
     "output_type": "stream",
     "text": [
      "R2- SCORE: 0.9902154955301047\n"
     ]
    }
   ],
   "source": [
    "# splitting\n",
    "from sklearn.model_selection import train_test_split\n",
    "X_train, X_test, y_train, y_test = train_test_split(X,y, test_size=0.2, random_state=4)\n",
    "\n",
    "#scaling \n",
    "from sklearn.preprocessing import StandardScaler # importing the required function\n",
    "scaler = StandardScaler() #initialis\n",
    "scaler.fit(X_train) # find the values of mu and sigma\n",
    "X_train = scaler.transform(X_train)\n",
    "X_test = scaler.transform(X_test) #only transform the test dataset, dont fit it\n",
    "\n",
    "\n",
    "# Model Training\n",
    "from sklearn.linear_model import LinearRegression\n",
    "regressor = LinearRegression()\n",
    "regressor.fit(X_train, y_train)\n",
    "\n",
    "#prediction\n",
    "y_pred = regressor.predict(X_test)\n",
    "\n",
    "#scoring\n",
    "from sklearn import metrics \n",
    "print('R2- SCORE:', metrics.r2_score(y_test,y_pred))"
   ]
  },
  {
   "cell_type": "code",
   "execution_count": 47,
   "metadata": {},
   "outputs": [
    {
     "data": {
      "text/plain": [
       "Index(['Price', 'Mileage', 'Cylinder', 'Doors', 'Cruise', 'Sound', 'Leather',\n",
       "       'Make_Buick', 'Make_Cadillac', 'Make_Chevrolet', 'Make_Pontiac',\n",
       "       'Make_SAAB', 'Make_Saturn', 'Model_9-2X AWD', 'Model_9_3',\n",
       "       'Model_9_3 HO', 'Model_9_5', 'Model_9_5 HO', 'Model_AVEO',\n",
       "       'Model_Bonneville', 'Model_CST-V', 'Model_CTS', 'Model_Cavalier',\n",
       "       'Model_Century', 'Model_Classic', 'Model_Cobalt', 'Model_Corvette',\n",
       "       'Model_Deville', 'Model_G6', 'Model_GTO', 'Model_Grand Am',\n",
       "       'Model_Grand Prix', 'Model_Impala', 'Model_Ion', 'Model_L Series',\n",
       "       'Model_Lacrosse', 'Model_Lesabre', 'Model_Malibu', 'Model_Monte Carlo',\n",
       "       'Model_Park Avenue', 'Model_STS-V6', 'Model_STS-V8', 'Model_Sunfire',\n",
       "       'Model_Vibe', 'Model_XLR-V8', 'Type_Convertible', 'Type_Coupe',\n",
       "       'Type_Hatchback', 'Type_Sedan', 'Type_Wagon', 'Trim_AWD Sportwagon 4D',\n",
       "       'Trim_Aero Conv 2D', 'Trim_Aero Sedan 4D', 'Trim_Aero Wagon 4D',\n",
       "       'Trim_Arc Conv 2D', 'Trim_Arc Sedan 4D', 'Trim_Arc Wagon 4D',\n",
       "       'Trim_CX Sedan 4D', 'Trim_CXL Sedan 4D', 'Trim_CXS Sedan 4D',\n",
       "       'Trim_Conv 2D', 'Trim_Coupe 2D', 'Trim_Custom Sedan 4D',\n",
       "       'Trim_DHS Sedan 4D', 'Trim_DTS Sedan 4D', 'Trim_GT Coupe 2D',\n",
       "       'Trim_GT Sedan 4D', 'Trim_GT Sportwagon', 'Trim_GTP Sedan 4D',\n",
       "       'Trim_GXP Sedan 4D', 'Trim_Hardtop Conv 2D', 'Trim_L300 Sedan 4D',\n",
       "       'Trim_LS Coupe 2D', 'Trim_LS Hatchback 4D', 'Trim_LS MAXX Hback 4D',\n",
       "       'Trim_LS Sedan 4D', 'Trim_LS Sport Coupe 2D', 'Trim_LS Sport Sedan 4D',\n",
       "       'Trim_LT Coupe 2D', 'Trim_LT Hatchback 4D', 'Trim_LT MAXX Hback 4D',\n",
       "       'Trim_LT Sedan 4D', 'Trim_Limited Sedan 4D', 'Trim_Linear Conv 2D',\n",
       "       'Trim_Linear Sedan 4D', 'Trim_Linear Wagon 4D', 'Trim_MAXX Hback 4D',\n",
       "       'Trim_Quad Coupe 2D', 'Trim_SE Sedan 4D', 'Trim_SLE Sedan 4D',\n",
       "       'Trim_SS Coupe 2D', 'Trim_SS Sedan 4D', 'Trim_SVM Hatchback 4D',\n",
       "       'Trim_SVM Sedan 4D', 'Trim_Sedan 4D', 'Trim_Special Ed Ultra 4D',\n",
       "       'Trim_Sportwagon 4D'],\n",
       "      dtype='object')"
      ]
     },
     "execution_count": 47,
     "metadata": {},
     "output_type": "execute_result"
    }
   ],
   "source": [
    "df.columns "
   ]
  },
  {
   "cell_type": "code",
   "execution_count": 48,
   "metadata": {},
   "outputs": [],
   "source": [
    "df = pd.read_csv(\"car_data.csv\")\n",
    "df.drop(columns = [\"Liter\"], axis=1, inplace= True)\n",
    "\n",
    "to_encode=['Make','Model','Type','Trim']"
   ]
  },
  {
   "cell_type": "code",
   "execution_count": 49,
   "metadata": {},
   "outputs": [
    {
     "name": "stdout",
     "output_type": "stream",
     "text": [
      "[['Make'], ['Model'], ['Make', 'Model'], ['Type'], ['Make', 'Type'], ['Model', 'Type'], ['Make', 'Model', 'Type'], ['Cylinder'], ['Make', 'Cylinder'], ['Model', 'Cylinder'], ['Make', 'Model', 'Cylinder'], ['Type', 'Cylinder'], ['Make', 'Type', 'Cylinder'], ['Model', 'Type', 'Cylinder'], ['Make', 'Model', 'Type', 'Cylinder'], ['Doors'], ['Make', 'Doors'], ['Model', 'Doors'], ['Make', 'Model', 'Doors'], ['Type', 'Doors'], ['Make', 'Type', 'Doors'], ['Model', 'Type', 'Doors'], ['Make', 'Model', 'Type', 'Doors'], ['Cylinder', 'Doors'], ['Make', 'Cylinder', 'Doors'], ['Model', 'Cylinder', 'Doors'], ['Make', 'Model', 'Cylinder', 'Doors'], ['Type', 'Cylinder', 'Doors'], ['Make', 'Type', 'Cylinder', 'Doors'], ['Model', 'Type', 'Cylinder', 'Doors'], ['Make', 'Model', 'Type', 'Cylinder', 'Doors'], ['Cruise'], ['Make', 'Cruise'], ['Model', 'Cruise'], ['Make', 'Model', 'Cruise'], ['Type', 'Cruise'], ['Make', 'Type', 'Cruise'], ['Model', 'Type', 'Cruise'], ['Make', 'Model', 'Type', 'Cruise'], ['Cylinder', 'Cruise'], ['Make', 'Cylinder', 'Cruise'], ['Model', 'Cylinder', 'Cruise'], ['Make', 'Model', 'Cylinder', 'Cruise'], ['Type', 'Cylinder', 'Cruise'], ['Make', 'Type', 'Cylinder', 'Cruise'], ['Model', 'Type', 'Cylinder', 'Cruise'], ['Make', 'Model', 'Type', 'Cylinder', 'Cruise'], ['Doors', 'Cruise'], ['Make', 'Doors', 'Cruise'], ['Model', 'Doors', 'Cruise'], ['Make', 'Model', 'Doors', 'Cruise'], ['Type', 'Doors', 'Cruise'], ['Make', 'Type', 'Doors', 'Cruise'], ['Model', 'Type', 'Doors', 'Cruise'], ['Make', 'Model', 'Type', 'Doors', 'Cruise'], ['Cylinder', 'Doors', 'Cruise'], ['Make', 'Cylinder', 'Doors', 'Cruise'], ['Model', 'Cylinder', 'Doors', 'Cruise'], ['Make', 'Model', 'Cylinder', 'Doors', 'Cruise'], ['Type', 'Cylinder', 'Doors', 'Cruise'], ['Make', 'Type', 'Cylinder', 'Doors', 'Cruise'], ['Model', 'Type', 'Cylinder', 'Doors', 'Cruise'], ['Make', 'Model', 'Type', 'Cylinder', 'Doors', 'Cruise'], ['Sound'], ['Make', 'Sound'], ['Model', 'Sound'], ['Make', 'Model', 'Sound'], ['Type', 'Sound'], ['Make', 'Type', 'Sound'], ['Model', 'Type', 'Sound'], ['Make', 'Model', 'Type', 'Sound'], ['Cylinder', 'Sound'], ['Make', 'Cylinder', 'Sound'], ['Model', 'Cylinder', 'Sound'], ['Make', 'Model', 'Cylinder', 'Sound'], ['Type', 'Cylinder', 'Sound'], ['Make', 'Type', 'Cylinder', 'Sound'], ['Model', 'Type', 'Cylinder', 'Sound'], ['Make', 'Model', 'Type', 'Cylinder', 'Sound'], ['Doors', 'Sound'], ['Make', 'Doors', 'Sound'], ['Model', 'Doors', 'Sound'], ['Make', 'Model', 'Doors', 'Sound'], ['Type', 'Doors', 'Sound'], ['Make', 'Type', 'Doors', 'Sound'], ['Model', 'Type', 'Doors', 'Sound'], ['Make', 'Model', 'Type', 'Doors', 'Sound'], ['Cylinder', 'Doors', 'Sound'], ['Make', 'Cylinder', 'Doors', 'Sound'], ['Model', 'Cylinder', 'Doors', 'Sound'], ['Make', 'Model', 'Cylinder', 'Doors', 'Sound'], ['Type', 'Cylinder', 'Doors', 'Sound'], ['Make', 'Type', 'Cylinder', 'Doors', 'Sound'], ['Model', 'Type', 'Cylinder', 'Doors', 'Sound'], ['Make', 'Model', 'Type', 'Cylinder', 'Doors', 'Sound'], ['Cruise', 'Sound'], ['Make', 'Cruise', 'Sound'], ['Model', 'Cruise', 'Sound'], ['Make', 'Model', 'Cruise', 'Sound'], ['Type', 'Cruise', 'Sound'], ['Make', 'Type', 'Cruise', 'Sound'], ['Model', 'Type', 'Cruise', 'Sound'], ['Make', 'Model', 'Type', 'Cruise', 'Sound'], ['Cylinder', 'Cruise', 'Sound'], ['Make', 'Cylinder', 'Cruise', 'Sound'], ['Model', 'Cylinder', 'Cruise', 'Sound'], ['Make', 'Model', 'Cylinder', 'Cruise', 'Sound'], ['Type', 'Cylinder', 'Cruise', 'Sound'], ['Make', 'Type', 'Cylinder', 'Cruise', 'Sound'], ['Model', 'Type', 'Cylinder', 'Cruise', 'Sound'], ['Make', 'Model', 'Type', 'Cylinder', 'Cruise', 'Sound'], ['Doors', 'Cruise', 'Sound'], ['Make', 'Doors', 'Cruise', 'Sound'], ['Model', 'Doors', 'Cruise', 'Sound'], ['Make', 'Model', 'Doors', 'Cruise', 'Sound'], ['Type', 'Doors', 'Cruise', 'Sound'], ['Make', 'Type', 'Doors', 'Cruise', 'Sound'], ['Model', 'Type', 'Doors', 'Cruise', 'Sound'], ['Make', 'Model', 'Type', 'Doors', 'Cruise', 'Sound'], ['Cylinder', 'Doors', 'Cruise', 'Sound'], ['Make', 'Cylinder', 'Doors', 'Cruise', 'Sound'], ['Model', 'Cylinder', 'Doors', 'Cruise', 'Sound'], ['Make', 'Model', 'Cylinder', 'Doors', 'Cruise', 'Sound'], ['Type', 'Cylinder', 'Doors', 'Cruise', 'Sound'], ['Make', 'Type', 'Cylinder', 'Doors', 'Cruise', 'Sound'], ['Model', 'Type', 'Cylinder', 'Doors', 'Cruise', 'Sound'], ['Make', 'Model', 'Type', 'Cylinder', 'Doors', 'Cruise', 'Sound'], ['Leather'], ['Make', 'Leather'], ['Model', 'Leather'], ['Make', 'Model', 'Leather'], ['Type', 'Leather'], ['Make', 'Type', 'Leather'], ['Model', 'Type', 'Leather'], ['Make', 'Model', 'Type', 'Leather'], ['Cylinder', 'Leather'], ['Make', 'Cylinder', 'Leather'], ['Model', 'Cylinder', 'Leather'], ['Make', 'Model', 'Cylinder', 'Leather'], ['Type', 'Cylinder', 'Leather'], ['Make', 'Type', 'Cylinder', 'Leather'], ['Model', 'Type', 'Cylinder', 'Leather'], ['Make', 'Model', 'Type', 'Cylinder', 'Leather'], ['Doors', 'Leather'], ['Make', 'Doors', 'Leather'], ['Model', 'Doors', 'Leather'], ['Make', 'Model', 'Doors', 'Leather'], ['Type', 'Doors', 'Leather'], ['Make', 'Type', 'Doors', 'Leather'], ['Model', 'Type', 'Doors', 'Leather'], ['Make', 'Model', 'Type', 'Doors', 'Leather'], ['Cylinder', 'Doors', 'Leather'], ['Make', 'Cylinder', 'Doors', 'Leather'], ['Model', 'Cylinder', 'Doors', 'Leather'], ['Make', 'Model', 'Cylinder', 'Doors', 'Leather'], ['Type', 'Cylinder', 'Doors', 'Leather'], ['Make', 'Type', 'Cylinder', 'Doors', 'Leather'], ['Model', 'Type', 'Cylinder', 'Doors', 'Leather'], ['Make', 'Model', 'Type', 'Cylinder', 'Doors', 'Leather'], ['Cruise', 'Leather'], ['Make', 'Cruise', 'Leather'], ['Model', 'Cruise', 'Leather'], ['Make', 'Model', 'Cruise', 'Leather'], ['Type', 'Cruise', 'Leather'], ['Make', 'Type', 'Cruise', 'Leather'], ['Model', 'Type', 'Cruise', 'Leather'], ['Make', 'Model', 'Type', 'Cruise', 'Leather'], ['Cylinder', 'Cruise', 'Leather'], ['Make', 'Cylinder', 'Cruise', 'Leather'], ['Model', 'Cylinder', 'Cruise', 'Leather'], ['Make', 'Model', 'Cylinder', 'Cruise', 'Leather'], ['Type', 'Cylinder', 'Cruise', 'Leather'], ['Make', 'Type', 'Cylinder', 'Cruise', 'Leather'], ['Model', 'Type', 'Cylinder', 'Cruise', 'Leather'], ['Make', 'Model', 'Type', 'Cylinder', 'Cruise', 'Leather'], ['Doors', 'Cruise', 'Leather'], ['Make', 'Doors', 'Cruise', 'Leather'], ['Model', 'Doors', 'Cruise', 'Leather'], ['Make', 'Model', 'Doors', 'Cruise', 'Leather'], ['Type', 'Doors', 'Cruise', 'Leather'], ['Make', 'Type', 'Doors', 'Cruise', 'Leather'], ['Model', 'Type', 'Doors', 'Cruise', 'Leather'], ['Make', 'Model', 'Type', 'Doors', 'Cruise', 'Leather'], ['Cylinder', 'Doors', 'Cruise', 'Leather'], ['Make', 'Cylinder', 'Doors', 'Cruise', 'Leather'], ['Model', 'Cylinder', 'Doors', 'Cruise', 'Leather'], ['Make', 'Model', 'Cylinder', 'Doors', 'Cruise', 'Leather'], ['Type', 'Cylinder', 'Doors', 'Cruise', 'Leather'], ['Make', 'Type', 'Cylinder', 'Doors', 'Cruise', 'Leather'], ['Model', 'Type', 'Cylinder', 'Doors', 'Cruise', 'Leather'], ['Make', 'Model', 'Type', 'Cylinder', 'Doors', 'Cruise', 'Leather'], ['Sound', 'Leather'], ['Make', 'Sound', 'Leather'], ['Model', 'Sound', 'Leather'], ['Make', 'Model', 'Sound', 'Leather'], ['Type', 'Sound', 'Leather'], ['Make', 'Type', 'Sound', 'Leather'], ['Model', 'Type', 'Sound', 'Leather'], ['Make', 'Model', 'Type', 'Sound', 'Leather'], ['Cylinder', 'Sound', 'Leather'], ['Make', 'Cylinder', 'Sound', 'Leather'], ['Model', 'Cylinder', 'Sound', 'Leather'], ['Make', 'Model', 'Cylinder', 'Sound', 'Leather'], ['Type', 'Cylinder', 'Sound', 'Leather'], ['Make', 'Type', 'Cylinder', 'Sound', 'Leather'], ['Model', 'Type', 'Cylinder', 'Sound', 'Leather'], ['Make', 'Model', 'Type', 'Cylinder', 'Sound', 'Leather'], ['Doors', 'Sound', 'Leather'], ['Make', 'Doors', 'Sound', 'Leather'], ['Model', 'Doors', 'Sound', 'Leather'], ['Make', 'Model', 'Doors', 'Sound', 'Leather'], ['Type', 'Doors', 'Sound', 'Leather'], ['Make', 'Type', 'Doors', 'Sound', 'Leather'], ['Model', 'Type', 'Doors', 'Sound', 'Leather'], ['Make', 'Model', 'Type', 'Doors', 'Sound', 'Leather'], ['Cylinder', 'Doors', 'Sound', 'Leather'], ['Make', 'Cylinder', 'Doors', 'Sound', 'Leather'], ['Model', 'Cylinder', 'Doors', 'Sound', 'Leather'], ['Make', 'Model', 'Cylinder', 'Doors', 'Sound', 'Leather'], ['Type', 'Cylinder', 'Doors', 'Sound', 'Leather'], ['Make', 'Type', 'Cylinder', 'Doors', 'Sound', 'Leather'], ['Model', 'Type', 'Cylinder', 'Doors', 'Sound', 'Leather'], ['Make', 'Model', 'Type', 'Cylinder', 'Doors', 'Sound', 'Leather'], ['Cruise', 'Sound', 'Leather'], ['Make', 'Cruise', 'Sound', 'Leather'], ['Model', 'Cruise', 'Sound', 'Leather'], ['Make', 'Model', 'Cruise', 'Sound', 'Leather'], ['Type', 'Cruise', 'Sound', 'Leather'], ['Make', 'Type', 'Cruise', 'Sound', 'Leather'], ['Model', 'Type', 'Cruise', 'Sound', 'Leather'], ['Make', 'Model', 'Type', 'Cruise', 'Sound', 'Leather'], ['Cylinder', 'Cruise', 'Sound', 'Leather'], ['Make', 'Cylinder', 'Cruise', 'Sound', 'Leather'], ['Model', 'Cylinder', 'Cruise', 'Sound', 'Leather'], ['Make', 'Model', 'Cylinder', 'Cruise', 'Sound', 'Leather'], ['Type', 'Cylinder', 'Cruise', 'Sound', 'Leather'], ['Make', 'Type', 'Cylinder', 'Cruise', 'Sound', 'Leather'], ['Model', 'Type', 'Cylinder', 'Cruise', 'Sound', 'Leather'], ['Make', 'Model', 'Type', 'Cylinder', 'Cruise', 'Sound', 'Leather'], ['Doors', 'Cruise', 'Sound', 'Leather'], ['Make', 'Doors', 'Cruise', 'Sound', 'Leather'], ['Model', 'Doors', 'Cruise', 'Sound', 'Leather'], ['Make', 'Model', 'Doors', 'Cruise', 'Sound', 'Leather'], ['Type', 'Doors', 'Cruise', 'Sound', 'Leather'], ['Make', 'Type', 'Doors', 'Cruise', 'Sound', 'Leather'], ['Model', 'Type', 'Doors', 'Cruise', 'Sound', 'Leather'], ['Make', 'Model', 'Type', 'Doors', 'Cruise', 'Sound', 'Leather'], ['Cylinder', 'Doors', 'Cruise', 'Sound', 'Leather'], ['Make', 'Cylinder', 'Doors', 'Cruise', 'Sound', 'Leather'], ['Model', 'Cylinder', 'Doors', 'Cruise', 'Sound', 'Leather'], ['Make', 'Model', 'Cylinder', 'Doors', 'Cruise', 'Sound', 'Leather'], ['Type', 'Cylinder', 'Doors', 'Cruise', 'Sound', 'Leather'], ['Make', 'Type', 'Cylinder', 'Doors', 'Cruise', 'Sound', 'Leather'], ['Model', 'Type', 'Cylinder', 'Doors', 'Cruise', 'Sound', 'Leather'], ['Make', 'Model', 'Type', 'Cylinder', 'Doors', 'Cruise', 'Sound', 'Leather'], ['Trim'], ['Make', 'Trim'], ['Model', 'Trim'], ['Make', 'Model', 'Trim'], ['Type', 'Trim'], ['Make', 'Type', 'Trim'], ['Model', 'Type', 'Trim'], ['Make', 'Model', 'Type', 'Trim'], ['Cylinder', 'Trim'], ['Make', 'Cylinder', 'Trim'], ['Model', 'Cylinder', 'Trim'], ['Make', 'Model', 'Cylinder', 'Trim'], ['Type', 'Cylinder', 'Trim'], ['Make', 'Type', 'Cylinder', 'Trim'], ['Model', 'Type', 'Cylinder', 'Trim'], ['Make', 'Model', 'Type', 'Cylinder', 'Trim'], ['Doors', 'Trim'], ['Make', 'Doors', 'Trim'], ['Model', 'Doors', 'Trim'], ['Make', 'Model', 'Doors', 'Trim'], ['Type', 'Doors', 'Trim'], ['Make', 'Type', 'Doors', 'Trim'], ['Model', 'Type', 'Doors', 'Trim'], ['Make', 'Model', 'Type', 'Doors', 'Trim'], ['Cylinder', 'Doors', 'Trim'], ['Make', 'Cylinder', 'Doors', 'Trim'], ['Model', 'Cylinder', 'Doors', 'Trim'], ['Make', 'Model', 'Cylinder', 'Doors', 'Trim'], ['Type', 'Cylinder', 'Doors', 'Trim'], ['Make', 'Type', 'Cylinder', 'Doors', 'Trim'], ['Model', 'Type', 'Cylinder', 'Doors', 'Trim'], ['Make', 'Model', 'Type', 'Cylinder', 'Doors', 'Trim'], ['Cruise', 'Trim'], ['Make', 'Cruise', 'Trim'], ['Model', 'Cruise', 'Trim'], ['Make', 'Model', 'Cruise', 'Trim'], ['Type', 'Cruise', 'Trim'], ['Make', 'Type', 'Cruise', 'Trim'], ['Model', 'Type', 'Cruise', 'Trim'], ['Make', 'Model', 'Type', 'Cruise', 'Trim'], ['Cylinder', 'Cruise', 'Trim'], ['Make', 'Cylinder', 'Cruise', 'Trim'], ['Model', 'Cylinder', 'Cruise', 'Trim'], ['Make', 'Model', 'Cylinder', 'Cruise', 'Trim'], ['Type', 'Cylinder', 'Cruise', 'Trim'], ['Make', 'Type', 'Cylinder', 'Cruise', 'Trim'], ['Model', 'Type', 'Cylinder', 'Cruise', 'Trim'], ['Make', 'Model', 'Type', 'Cylinder', 'Cruise', 'Trim'], ['Doors', 'Cruise', 'Trim'], ['Make', 'Doors', 'Cruise', 'Trim'], ['Model', 'Doors', 'Cruise', 'Trim'], ['Make', 'Model', 'Doors', 'Cruise', 'Trim'], ['Type', 'Doors', 'Cruise', 'Trim'], ['Make', 'Type', 'Doors', 'Cruise', 'Trim'], ['Model', 'Type', 'Doors', 'Cruise', 'Trim'], ['Make', 'Model', 'Type', 'Doors', 'Cruise', 'Trim'], ['Cylinder', 'Doors', 'Cruise', 'Trim'], ['Make', 'Cylinder', 'Doors', 'Cruise', 'Trim'], ['Model', 'Cylinder', 'Doors', 'Cruise', 'Trim'], ['Make', 'Model', 'Cylinder', 'Doors', 'Cruise', 'Trim'], ['Type', 'Cylinder', 'Doors', 'Cruise', 'Trim'], ['Make', 'Type', 'Cylinder', 'Doors', 'Cruise', 'Trim'], ['Model', 'Type', 'Cylinder', 'Doors', 'Cruise', 'Trim'], ['Make', 'Model', 'Type', 'Cylinder', 'Doors', 'Cruise', 'Trim'], ['Sound', 'Trim'], ['Make', 'Sound', 'Trim'], ['Model', 'Sound', 'Trim'], ['Make', 'Model', 'Sound', 'Trim'], ['Type', 'Sound', 'Trim'], ['Make', 'Type', 'Sound', 'Trim'], ['Model', 'Type', 'Sound', 'Trim'], ['Make', 'Model', 'Type', 'Sound', 'Trim'], ['Cylinder', 'Sound', 'Trim'], ['Make', 'Cylinder', 'Sound', 'Trim'], ['Model', 'Cylinder', 'Sound', 'Trim'], ['Make', 'Model', 'Cylinder', 'Sound', 'Trim'], ['Type', 'Cylinder', 'Sound', 'Trim'], ['Make', 'Type', 'Cylinder', 'Sound', 'Trim'], ['Model', 'Type', 'Cylinder', 'Sound', 'Trim'], ['Make', 'Model', 'Type', 'Cylinder', 'Sound', 'Trim'], ['Doors', 'Sound', 'Trim'], ['Make', 'Doors', 'Sound', 'Trim'], ['Model', 'Doors', 'Sound', 'Trim'], ['Make', 'Model', 'Doors', 'Sound', 'Trim'], ['Type', 'Doors', 'Sound', 'Trim'], ['Make', 'Type', 'Doors', 'Sound', 'Trim'], ['Model', 'Type', 'Doors', 'Sound', 'Trim'], ['Make', 'Model', 'Type', 'Doors', 'Sound', 'Trim'], ['Cylinder', 'Doors', 'Sound', 'Trim'], ['Make', 'Cylinder', 'Doors', 'Sound', 'Trim'], ['Model', 'Cylinder', 'Doors', 'Sound', 'Trim'], ['Make', 'Model', 'Cylinder', 'Doors', 'Sound', 'Trim'], ['Type', 'Cylinder', 'Doors', 'Sound', 'Trim'], ['Make', 'Type', 'Cylinder', 'Doors', 'Sound', 'Trim'], ['Model', 'Type', 'Cylinder', 'Doors', 'Sound', 'Trim'], ['Make', 'Model', 'Type', 'Cylinder', 'Doors', 'Sound', 'Trim'], ['Cruise', 'Sound', 'Trim'], ['Make', 'Cruise', 'Sound', 'Trim'], ['Model', 'Cruise', 'Sound', 'Trim'], ['Make', 'Model', 'Cruise', 'Sound', 'Trim'], ['Type', 'Cruise', 'Sound', 'Trim'], ['Make', 'Type', 'Cruise', 'Sound', 'Trim'], ['Model', 'Type', 'Cruise', 'Sound', 'Trim'], ['Make', 'Model', 'Type', 'Cruise', 'Sound', 'Trim'], ['Cylinder', 'Cruise', 'Sound', 'Trim'], ['Make', 'Cylinder', 'Cruise', 'Sound', 'Trim'], ['Model', 'Cylinder', 'Cruise', 'Sound', 'Trim'], ['Make', 'Model', 'Cylinder', 'Cruise', 'Sound', 'Trim'], ['Type', 'Cylinder', 'Cruise', 'Sound', 'Trim'], ['Make', 'Type', 'Cylinder', 'Cruise', 'Sound', 'Trim'], ['Model', 'Type', 'Cylinder', 'Cruise', 'Sound', 'Trim'], ['Make', 'Model', 'Type', 'Cylinder', 'Cruise', 'Sound', 'Trim'], ['Doors', 'Cruise', 'Sound', 'Trim'], ['Make', 'Doors', 'Cruise', 'Sound', 'Trim'], ['Model', 'Doors', 'Cruise', 'Sound', 'Trim'], ['Make', 'Model', 'Doors', 'Cruise', 'Sound', 'Trim'], ['Type', 'Doors', 'Cruise', 'Sound', 'Trim'], ['Make', 'Type', 'Doors', 'Cruise', 'Sound', 'Trim'], ['Model', 'Type', 'Doors', 'Cruise', 'Sound', 'Trim'], ['Make', 'Model', 'Type', 'Doors', 'Cruise', 'Sound', 'Trim'], ['Cylinder', 'Doors', 'Cruise', 'Sound', 'Trim'], ['Make', 'Cylinder', 'Doors', 'Cruise', 'Sound', 'Trim'], ['Model', 'Cylinder', 'Doors', 'Cruise', 'Sound', 'Trim'], ['Make', 'Model', 'Cylinder', 'Doors', 'Cruise', 'Sound', 'Trim'], ['Type', 'Cylinder', 'Doors', 'Cruise', 'Sound', 'Trim'], ['Make', 'Type', 'Cylinder', 'Doors', 'Cruise', 'Sound', 'Trim'], ['Model', 'Type', 'Cylinder', 'Doors', 'Cruise', 'Sound', 'Trim'], ['Make', 'Model', 'Type', 'Cylinder', 'Doors', 'Cruise', 'Sound', 'Trim'], ['Leather', 'Trim'], ['Make', 'Leather', 'Trim'], ['Model', 'Leather', 'Trim'], ['Make', 'Model', 'Leather', 'Trim'], ['Type', 'Leather', 'Trim'], ['Make', 'Type', 'Leather', 'Trim'], ['Model', 'Type', 'Leather', 'Trim'], ['Make', 'Model', 'Type', 'Leather', 'Trim'], ['Cylinder', 'Leather', 'Trim'], ['Make', 'Cylinder', 'Leather', 'Trim'], ['Model', 'Cylinder', 'Leather', 'Trim'], ['Make', 'Model', 'Cylinder', 'Leather', 'Trim'], ['Type', 'Cylinder', 'Leather', 'Trim'], ['Make', 'Type', 'Cylinder', 'Leather', 'Trim'], ['Model', 'Type', 'Cylinder', 'Leather', 'Trim'], ['Make', 'Model', 'Type', 'Cylinder', 'Leather', 'Trim'], ['Doors', 'Leather', 'Trim'], ['Make', 'Doors', 'Leather', 'Trim'], ['Model', 'Doors', 'Leather', 'Trim'], ['Make', 'Model', 'Doors', 'Leather', 'Trim'], ['Type', 'Doors', 'Leather', 'Trim'], ['Make', 'Type', 'Doors', 'Leather', 'Trim'], ['Model', 'Type', 'Doors', 'Leather', 'Trim'], ['Make', 'Model', 'Type', 'Doors', 'Leather', 'Trim'], ['Cylinder', 'Doors', 'Leather', 'Trim'], ['Make', 'Cylinder', 'Doors', 'Leather', 'Trim'], ['Model', 'Cylinder', 'Doors', 'Leather', 'Trim'], ['Make', 'Model', 'Cylinder', 'Doors', 'Leather', 'Trim'], ['Type', 'Cylinder', 'Doors', 'Leather', 'Trim'], ['Make', 'Type', 'Cylinder', 'Doors', 'Leather', 'Trim'], ['Model', 'Type', 'Cylinder', 'Doors', 'Leather', 'Trim'], ['Make', 'Model', 'Type', 'Cylinder', 'Doors', 'Leather', 'Trim'], ['Cruise', 'Leather', 'Trim'], ['Make', 'Cruise', 'Leather', 'Trim'], ['Model', 'Cruise', 'Leather', 'Trim'], ['Make', 'Model', 'Cruise', 'Leather', 'Trim'], ['Type', 'Cruise', 'Leather', 'Trim'], ['Make', 'Type', 'Cruise', 'Leather', 'Trim'], ['Model', 'Type', 'Cruise', 'Leather', 'Trim'], ['Make', 'Model', 'Type', 'Cruise', 'Leather', 'Trim'], ['Cylinder', 'Cruise', 'Leather', 'Trim'], ['Make', 'Cylinder', 'Cruise', 'Leather', 'Trim'], ['Model', 'Cylinder', 'Cruise', 'Leather', 'Trim'], ['Make', 'Model', 'Cylinder', 'Cruise', 'Leather', 'Trim'], ['Type', 'Cylinder', 'Cruise', 'Leather', 'Trim'], ['Make', 'Type', 'Cylinder', 'Cruise', 'Leather', 'Trim'], ['Model', 'Type', 'Cylinder', 'Cruise', 'Leather', 'Trim'], ['Make', 'Model', 'Type', 'Cylinder', 'Cruise', 'Leather', 'Trim'], ['Doors', 'Cruise', 'Leather', 'Trim'], ['Make', 'Doors', 'Cruise', 'Leather', 'Trim'], ['Model', 'Doors', 'Cruise', 'Leather', 'Trim'], ['Make', 'Model', 'Doors', 'Cruise', 'Leather', 'Trim'], ['Type', 'Doors', 'Cruise', 'Leather', 'Trim'], ['Make', 'Type', 'Doors', 'Cruise', 'Leather', 'Trim'], ['Model', 'Type', 'Doors', 'Cruise', 'Leather', 'Trim'], ['Make', 'Model', 'Type', 'Doors', 'Cruise', 'Leather', 'Trim'], ['Cylinder', 'Doors', 'Cruise', 'Leather', 'Trim'], ['Make', 'Cylinder', 'Doors', 'Cruise', 'Leather', 'Trim'], ['Model', 'Cylinder', 'Doors', 'Cruise', 'Leather', 'Trim'], ['Make', 'Model', 'Cylinder', 'Doors', 'Cruise', 'Leather', 'Trim'], ['Type', 'Cylinder', 'Doors', 'Cruise', 'Leather', 'Trim'], ['Make', 'Type', 'Cylinder', 'Doors', 'Cruise', 'Leather', 'Trim'], ['Model', 'Type', 'Cylinder', 'Doors', 'Cruise', 'Leather', 'Trim'], ['Make', 'Model', 'Type', 'Cylinder', 'Doors', 'Cruise', 'Leather', 'Trim'], ['Sound', 'Leather', 'Trim'], ['Make', 'Sound', 'Leather', 'Trim'], ['Model', 'Sound', 'Leather', 'Trim'], ['Make', 'Model', 'Sound', 'Leather', 'Trim'], ['Type', 'Sound', 'Leather', 'Trim'], ['Make', 'Type', 'Sound', 'Leather', 'Trim'], ['Model', 'Type', 'Sound', 'Leather', 'Trim'], ['Make', 'Model', 'Type', 'Sound', 'Leather', 'Trim'], ['Cylinder', 'Sound', 'Leather', 'Trim'], ['Make', 'Cylinder', 'Sound', 'Leather', 'Trim'], ['Model', 'Cylinder', 'Sound', 'Leather', 'Trim'], ['Make', 'Model', 'Cylinder', 'Sound', 'Leather', 'Trim'], ['Type', 'Cylinder', 'Sound', 'Leather', 'Trim'], ['Make', 'Type', 'Cylinder', 'Sound', 'Leather', 'Trim'], ['Model', 'Type', 'Cylinder', 'Sound', 'Leather', 'Trim'], ['Make', 'Model', 'Type', 'Cylinder', 'Sound', 'Leather', 'Trim'], ['Doors', 'Sound', 'Leather', 'Trim'], ['Make', 'Doors', 'Sound', 'Leather', 'Trim'], ['Model', 'Doors', 'Sound', 'Leather', 'Trim'], ['Make', 'Model', 'Doors', 'Sound', 'Leather', 'Trim'], ['Type', 'Doors', 'Sound', 'Leather', 'Trim'], ['Make', 'Type', 'Doors', 'Sound', 'Leather', 'Trim'], ['Model', 'Type', 'Doors', 'Sound', 'Leather', 'Trim'], ['Make', 'Model', 'Type', 'Doors', 'Sound', 'Leather', 'Trim'], ['Cylinder', 'Doors', 'Sound', 'Leather', 'Trim'], ['Make', 'Cylinder', 'Doors', 'Sound', 'Leather', 'Trim'], ['Model', 'Cylinder', 'Doors', 'Sound', 'Leather', 'Trim'], ['Make', 'Model', 'Cylinder', 'Doors', 'Sound', 'Leather', 'Trim'], ['Type', 'Cylinder', 'Doors', 'Sound', 'Leather', 'Trim'], ['Make', 'Type', 'Cylinder', 'Doors', 'Sound', 'Leather', 'Trim'], ['Model', 'Type', 'Cylinder', 'Doors', 'Sound', 'Leather', 'Trim'], ['Make', 'Model', 'Type', 'Cylinder', 'Doors', 'Sound', 'Leather', 'Trim'], ['Cruise', 'Sound', 'Leather', 'Trim'], ['Make', 'Cruise', 'Sound', 'Leather', 'Trim'], ['Model', 'Cruise', 'Sound', 'Leather', 'Trim'], ['Make', 'Model', 'Cruise', 'Sound', 'Leather', 'Trim'], ['Type', 'Cruise', 'Sound', 'Leather', 'Trim'], ['Make', 'Type', 'Cruise', 'Sound', 'Leather', 'Trim'], ['Model', 'Type', 'Cruise', 'Sound', 'Leather', 'Trim'], ['Make', 'Model', 'Type', 'Cruise', 'Sound', 'Leather', 'Trim'], ['Cylinder', 'Cruise', 'Sound', 'Leather', 'Trim'], ['Make', 'Cylinder', 'Cruise', 'Sound', 'Leather', 'Trim'], ['Model', 'Cylinder', 'Cruise', 'Sound', 'Leather', 'Trim'], ['Make', 'Model', 'Cylinder', 'Cruise', 'Sound', 'Leather', 'Trim'], ['Type', 'Cylinder', 'Cruise', 'Sound', 'Leather', 'Trim'], ['Make', 'Type', 'Cylinder', 'Cruise', 'Sound', 'Leather', 'Trim'], ['Model', 'Type', 'Cylinder', 'Cruise', 'Sound', 'Leather', 'Trim'], ['Make', 'Model', 'Type', 'Cylinder', 'Cruise', 'Sound', 'Leather', 'Trim'], ['Doors', 'Cruise', 'Sound', 'Leather', 'Trim'], ['Make', 'Doors', 'Cruise', 'Sound', 'Leather', 'Trim'], ['Model', 'Doors', 'Cruise', 'Sound', 'Leather', 'Trim'], ['Make', 'Model', 'Doors', 'Cruise', 'Sound', 'Leather', 'Trim'], ['Type', 'Doors', 'Cruise', 'Sound', 'Leather', 'Trim'], ['Make', 'Type', 'Doors', 'Cruise', 'Sound', 'Leather', 'Trim'], ['Model', 'Type', 'Doors', 'Cruise', 'Sound', 'Leather', 'Trim'], ['Make', 'Model', 'Type', 'Doors', 'Cruise', 'Sound', 'Leather', 'Trim'], ['Cylinder', 'Doors', 'Cruise', 'Sound', 'Leather', 'Trim'], ['Make', 'Cylinder', 'Doors', 'Cruise', 'Sound', 'Leather', 'Trim'], ['Model', 'Cylinder', 'Doors', 'Cruise', 'Sound', 'Leather', 'Trim'], ['Make', 'Model', 'Cylinder', 'Doors', 'Cruise', 'Sound', 'Leather', 'Trim'], ['Type', 'Cylinder', 'Doors', 'Cruise', 'Sound', 'Leather', 'Trim'], ['Make', 'Type', 'Cylinder', 'Doors', 'Cruise', 'Sound', 'Leather', 'Trim'], ['Model', 'Type', 'Cylinder', 'Doors', 'Cruise', 'Sound', 'Leather', 'Trim'], ['Make', 'Model', 'Type', 'Cylinder', 'Doors', 'Cruise', 'Sound', 'Leather', 'Trim'], ['Mileage'], ['Make', 'Mileage'], ['Model', 'Mileage'], ['Make', 'Model', 'Mileage'], ['Type', 'Mileage'], ['Make', 'Type', 'Mileage'], ['Model', 'Type', 'Mileage'], ['Make', 'Model', 'Type', 'Mileage'], ['Cylinder', 'Mileage'], ['Make', 'Cylinder', 'Mileage'], ['Model', 'Cylinder', 'Mileage'], ['Make', 'Model', 'Cylinder', 'Mileage'], ['Type', 'Cylinder', 'Mileage'], ['Make', 'Type', 'Cylinder', 'Mileage'], ['Model', 'Type', 'Cylinder', 'Mileage'], ['Make', 'Model', 'Type', 'Cylinder', 'Mileage'], ['Doors', 'Mileage'], ['Make', 'Doors', 'Mileage'], ['Model', 'Doors', 'Mileage'], ['Make', 'Model', 'Doors', 'Mileage'], ['Type', 'Doors', 'Mileage'], ['Make', 'Type', 'Doors', 'Mileage'], ['Model', 'Type', 'Doors', 'Mileage'], ['Make', 'Model', 'Type', 'Doors', 'Mileage'], ['Cylinder', 'Doors', 'Mileage'], ['Make', 'Cylinder', 'Doors', 'Mileage'], ['Model', 'Cylinder', 'Doors', 'Mileage'], ['Make', 'Model', 'Cylinder', 'Doors', 'Mileage'], ['Type', 'Cylinder', 'Doors', 'Mileage'], ['Make', 'Type', 'Cylinder', 'Doors', 'Mileage'], ['Model', 'Type', 'Cylinder', 'Doors', 'Mileage'], ['Make', 'Model', 'Type', 'Cylinder', 'Doors', 'Mileage'], ['Cruise', 'Mileage'], ['Make', 'Cruise', 'Mileage'], ['Model', 'Cruise', 'Mileage'], ['Make', 'Model', 'Cruise', 'Mileage'], ['Type', 'Cruise', 'Mileage'], ['Make', 'Type', 'Cruise', 'Mileage'], ['Model', 'Type', 'Cruise', 'Mileage'], ['Make', 'Model', 'Type', 'Cruise', 'Mileage'], ['Cylinder', 'Cruise', 'Mileage'], ['Make', 'Cylinder', 'Cruise', 'Mileage'], ['Model', 'Cylinder', 'Cruise', 'Mileage'], ['Make', 'Model', 'Cylinder', 'Cruise', 'Mileage'], ['Type', 'Cylinder', 'Cruise', 'Mileage'], ['Make', 'Type', 'Cylinder', 'Cruise', 'Mileage'], ['Model', 'Type', 'Cylinder', 'Cruise', 'Mileage'], ['Make', 'Model', 'Type', 'Cylinder', 'Cruise', 'Mileage'], ['Doors', 'Cruise', 'Mileage'], ['Make', 'Doors', 'Cruise', 'Mileage'], ['Model', 'Doors', 'Cruise', 'Mileage'], ['Make', 'Model', 'Doors', 'Cruise', 'Mileage'], ['Type', 'Doors', 'Cruise', 'Mileage'], ['Make', 'Type', 'Doors', 'Cruise', 'Mileage'], ['Model', 'Type', 'Doors', 'Cruise', 'Mileage'], ['Make', 'Model', 'Type', 'Doors', 'Cruise', 'Mileage'], ['Cylinder', 'Doors', 'Cruise', 'Mileage'], ['Make', 'Cylinder', 'Doors', 'Cruise', 'Mileage'], ['Model', 'Cylinder', 'Doors', 'Cruise', 'Mileage'], ['Make', 'Model', 'Cylinder', 'Doors', 'Cruise', 'Mileage'], ['Type', 'Cylinder', 'Doors', 'Cruise', 'Mileage'], ['Make', 'Type', 'Cylinder', 'Doors', 'Cruise', 'Mileage'], ['Model', 'Type', 'Cylinder', 'Doors', 'Cruise', 'Mileage'], ['Make', 'Model', 'Type', 'Cylinder', 'Doors', 'Cruise', 'Mileage'], ['Sound', 'Mileage'], ['Make', 'Sound', 'Mileage'], ['Model', 'Sound', 'Mileage'], ['Make', 'Model', 'Sound', 'Mileage'], ['Type', 'Sound', 'Mileage'], ['Make', 'Type', 'Sound', 'Mileage'], ['Model', 'Type', 'Sound', 'Mileage'], ['Make', 'Model', 'Type', 'Sound', 'Mileage'], ['Cylinder', 'Sound', 'Mileage'], ['Make', 'Cylinder', 'Sound', 'Mileage'], ['Model', 'Cylinder', 'Sound', 'Mileage'], ['Make', 'Model', 'Cylinder', 'Sound', 'Mileage'], ['Type', 'Cylinder', 'Sound', 'Mileage'], ['Make', 'Type', 'Cylinder', 'Sound', 'Mileage'], ['Model', 'Type', 'Cylinder', 'Sound', 'Mileage'], ['Make', 'Model', 'Type', 'Cylinder', 'Sound', 'Mileage'], ['Doors', 'Sound', 'Mileage'], ['Make', 'Doors', 'Sound', 'Mileage'], ['Model', 'Doors', 'Sound', 'Mileage'], ['Make', 'Model', 'Doors', 'Sound', 'Mileage'], ['Type', 'Doors', 'Sound', 'Mileage'], ['Make', 'Type', 'Doors', 'Sound', 'Mileage'], ['Model', 'Type', 'Doors', 'Sound', 'Mileage'], ['Make', 'Model', 'Type', 'Doors', 'Sound', 'Mileage'], ['Cylinder', 'Doors', 'Sound', 'Mileage'], ['Make', 'Cylinder', 'Doors', 'Sound', 'Mileage'], ['Model', 'Cylinder', 'Doors', 'Sound', 'Mileage'], ['Make', 'Model', 'Cylinder', 'Doors', 'Sound', 'Mileage'], ['Type', 'Cylinder', 'Doors', 'Sound', 'Mileage'], ['Make', 'Type', 'Cylinder', 'Doors', 'Sound', 'Mileage'], ['Model', 'Type', 'Cylinder', 'Doors', 'Sound', 'Mileage'], ['Make', 'Model', 'Type', 'Cylinder', 'Doors', 'Sound', 'Mileage'], ['Cruise', 'Sound', 'Mileage'], ['Make', 'Cruise', 'Sound', 'Mileage'], ['Model', 'Cruise', 'Sound', 'Mileage'], ['Make', 'Model', 'Cruise', 'Sound', 'Mileage'], ['Type', 'Cruise', 'Sound', 'Mileage'], ['Make', 'Type', 'Cruise', 'Sound', 'Mileage'], ['Model', 'Type', 'Cruise', 'Sound', 'Mileage'], ['Make', 'Model', 'Type', 'Cruise', 'Sound', 'Mileage'], ['Cylinder', 'Cruise', 'Sound', 'Mileage'], ['Make', 'Cylinder', 'Cruise', 'Sound', 'Mileage'], ['Model', 'Cylinder', 'Cruise', 'Sound', 'Mileage'], ['Make', 'Model', 'Cylinder', 'Cruise', 'Sound', 'Mileage'], ['Type', 'Cylinder', 'Cruise', 'Sound', 'Mileage'], ['Make', 'Type', 'Cylinder', 'Cruise', 'Sound', 'Mileage'], ['Model', 'Type', 'Cylinder', 'Cruise', 'Sound', 'Mileage'], ['Make', 'Model', 'Type', 'Cylinder', 'Cruise', 'Sound', 'Mileage'], ['Doors', 'Cruise', 'Sound', 'Mileage'], ['Make', 'Doors', 'Cruise', 'Sound', 'Mileage'], ['Model', 'Doors', 'Cruise', 'Sound', 'Mileage'], ['Make', 'Model', 'Doors', 'Cruise', 'Sound', 'Mileage'], ['Type', 'Doors', 'Cruise', 'Sound', 'Mileage'], ['Make', 'Type', 'Doors', 'Cruise', 'Sound', 'Mileage'], ['Model', 'Type', 'Doors', 'Cruise', 'Sound', 'Mileage'], ['Make', 'Model', 'Type', 'Doors', 'Cruise', 'Sound', 'Mileage'], ['Cylinder', 'Doors', 'Cruise', 'Sound', 'Mileage'], ['Make', 'Cylinder', 'Doors', 'Cruise', 'Sound', 'Mileage'], ['Model', 'Cylinder', 'Doors', 'Cruise', 'Sound', 'Mileage'], ['Make', 'Model', 'Cylinder', 'Doors', 'Cruise', 'Sound', 'Mileage'], ['Type', 'Cylinder', 'Doors', 'Cruise', 'Sound', 'Mileage'], ['Make', 'Type', 'Cylinder', 'Doors', 'Cruise', 'Sound', 'Mileage'], ['Model', 'Type', 'Cylinder', 'Doors', 'Cruise', 'Sound', 'Mileage'], ['Make', 'Model', 'Type', 'Cylinder', 'Doors', 'Cruise', 'Sound', 'Mileage'], ['Leather', 'Mileage'], ['Make', 'Leather', 'Mileage'], ['Model', 'Leather', 'Mileage'], ['Make', 'Model', 'Leather', 'Mileage'], ['Type', 'Leather', 'Mileage'], ['Make', 'Type', 'Leather', 'Mileage'], ['Model', 'Type', 'Leather', 'Mileage'], ['Make', 'Model', 'Type', 'Leather', 'Mileage'], ['Cylinder', 'Leather', 'Mileage'], ['Make', 'Cylinder', 'Leather', 'Mileage'], ['Model', 'Cylinder', 'Leather', 'Mileage'], ['Make', 'Model', 'Cylinder', 'Leather', 'Mileage'], ['Type', 'Cylinder', 'Leather', 'Mileage'], ['Make', 'Type', 'Cylinder', 'Leather', 'Mileage'], ['Model', 'Type', 'Cylinder', 'Leather', 'Mileage'], ['Make', 'Model', 'Type', 'Cylinder', 'Leather', 'Mileage'], ['Doors', 'Leather', 'Mileage'], ['Make', 'Doors', 'Leather', 'Mileage'], ['Model', 'Doors', 'Leather', 'Mileage'], ['Make', 'Model', 'Doors', 'Leather', 'Mileage'], ['Type', 'Doors', 'Leather', 'Mileage'], ['Make', 'Type', 'Doors', 'Leather', 'Mileage'], ['Model', 'Type', 'Doors', 'Leather', 'Mileage'], ['Make', 'Model', 'Type', 'Doors', 'Leather', 'Mileage'], ['Cylinder', 'Doors', 'Leather', 'Mileage'], ['Make', 'Cylinder', 'Doors', 'Leather', 'Mileage'], ['Model', 'Cylinder', 'Doors', 'Leather', 'Mileage'], ['Make', 'Model', 'Cylinder', 'Doors', 'Leather', 'Mileage'], ['Type', 'Cylinder', 'Doors', 'Leather', 'Mileage'], ['Make', 'Type', 'Cylinder', 'Doors', 'Leather', 'Mileage'], ['Model', 'Type', 'Cylinder', 'Doors', 'Leather', 'Mileage'], ['Make', 'Model', 'Type', 'Cylinder', 'Doors', 'Leather', 'Mileage'], ['Cruise', 'Leather', 'Mileage'], ['Make', 'Cruise', 'Leather', 'Mileage'], ['Model', 'Cruise', 'Leather', 'Mileage'], ['Make', 'Model', 'Cruise', 'Leather', 'Mileage'], ['Type', 'Cruise', 'Leather', 'Mileage'], ['Make', 'Type', 'Cruise', 'Leather', 'Mileage'], ['Model', 'Type', 'Cruise', 'Leather', 'Mileage'], ['Make', 'Model', 'Type', 'Cruise', 'Leather', 'Mileage'], ['Cylinder', 'Cruise', 'Leather', 'Mileage'], ['Make', 'Cylinder', 'Cruise', 'Leather', 'Mileage'], ['Model', 'Cylinder', 'Cruise', 'Leather', 'Mileage'], ['Make', 'Model', 'Cylinder', 'Cruise', 'Leather', 'Mileage'], ['Type', 'Cylinder', 'Cruise', 'Leather', 'Mileage'], ['Make', 'Type', 'Cylinder', 'Cruise', 'Leather', 'Mileage'], ['Model', 'Type', 'Cylinder', 'Cruise', 'Leather', 'Mileage'], ['Make', 'Model', 'Type', 'Cylinder', 'Cruise', 'Leather', 'Mileage'], ['Doors', 'Cruise', 'Leather', 'Mileage'], ['Make', 'Doors', 'Cruise', 'Leather', 'Mileage'], ['Model', 'Doors', 'Cruise', 'Leather', 'Mileage'], ['Make', 'Model', 'Doors', 'Cruise', 'Leather', 'Mileage'], ['Type', 'Doors', 'Cruise', 'Leather', 'Mileage'], ['Make', 'Type', 'Doors', 'Cruise', 'Leather', 'Mileage'], ['Model', 'Type', 'Doors', 'Cruise', 'Leather', 'Mileage'], ['Make', 'Model', 'Type', 'Doors', 'Cruise', 'Leather', 'Mileage'], ['Cylinder', 'Doors', 'Cruise', 'Leather', 'Mileage'], ['Make', 'Cylinder', 'Doors', 'Cruise', 'Leather', 'Mileage'], ['Model', 'Cylinder', 'Doors', 'Cruise', 'Leather', 'Mileage'], ['Make', 'Model', 'Cylinder', 'Doors', 'Cruise', 'Leather', 'Mileage'], ['Type', 'Cylinder', 'Doors', 'Cruise', 'Leather', 'Mileage'], ['Make', 'Type', 'Cylinder', 'Doors', 'Cruise', 'Leather', 'Mileage'], ['Model', 'Type', 'Cylinder', 'Doors', 'Cruise', 'Leather', 'Mileage'], ['Make', 'Model', 'Type', 'Cylinder', 'Doors', 'Cruise', 'Leather', 'Mileage'], ['Sound', 'Leather', 'Mileage'], ['Make', 'Sound', 'Leather', 'Mileage'], ['Model', 'Sound', 'Leather', 'Mileage'], ['Make', 'Model', 'Sound', 'Leather', 'Mileage'], ['Type', 'Sound', 'Leather', 'Mileage'], ['Make', 'Type', 'Sound', 'Leather', 'Mileage'], ['Model', 'Type', 'Sound', 'Leather', 'Mileage'], ['Make', 'Model', 'Type', 'Sound', 'Leather', 'Mileage'], ['Cylinder', 'Sound', 'Leather', 'Mileage'], ['Make', 'Cylinder', 'Sound', 'Leather', 'Mileage'], ['Model', 'Cylinder', 'Sound', 'Leather', 'Mileage'], ['Make', 'Model', 'Cylinder', 'Sound', 'Leather', 'Mileage'], ['Type', 'Cylinder', 'Sound', 'Leather', 'Mileage'], ['Make', 'Type', 'Cylinder', 'Sound', 'Leather', 'Mileage'], ['Model', 'Type', 'Cylinder', 'Sound', 'Leather', 'Mileage'], ['Make', 'Model', 'Type', 'Cylinder', 'Sound', 'Leather', 'Mileage'], ['Doors', 'Sound', 'Leather', 'Mileage'], ['Make', 'Doors', 'Sound', 'Leather', 'Mileage'], ['Model', 'Doors', 'Sound', 'Leather', 'Mileage'], ['Make', 'Model', 'Doors', 'Sound', 'Leather', 'Mileage'], ['Type', 'Doors', 'Sound', 'Leather', 'Mileage'], ['Make', 'Type', 'Doors', 'Sound', 'Leather', 'Mileage'], ['Model', 'Type', 'Doors', 'Sound', 'Leather', 'Mileage'], ['Make', 'Model', 'Type', 'Doors', 'Sound', 'Leather', 'Mileage'], ['Cylinder', 'Doors', 'Sound', 'Leather', 'Mileage'], ['Make', 'Cylinder', 'Doors', 'Sound', 'Leather', 'Mileage'], ['Model', 'Cylinder', 'Doors', 'Sound', 'Leather', 'Mileage'], ['Make', 'Model', 'Cylinder', 'Doors', 'Sound', 'Leather', 'Mileage'], ['Type', 'Cylinder', 'Doors', 'Sound', 'Leather', 'Mileage'], ['Make', 'Type', 'Cylinder', 'Doors', 'Sound', 'Leather', 'Mileage'], ['Model', 'Type', 'Cylinder', 'Doors', 'Sound', 'Leather', 'Mileage'], ['Make', 'Model', 'Type', 'Cylinder', 'Doors', 'Sound', 'Leather', 'Mileage'], ['Cruise', 'Sound', 'Leather', 'Mileage'], ['Make', 'Cruise', 'Sound', 'Leather', 'Mileage'], ['Model', 'Cruise', 'Sound', 'Leather', 'Mileage'], ['Make', 'Model', 'Cruise', 'Sound', 'Leather', 'Mileage'], ['Type', 'Cruise', 'Sound', 'Leather', 'Mileage'], ['Make', 'Type', 'Cruise', 'Sound', 'Leather', 'Mileage'], ['Model', 'Type', 'Cruise', 'Sound', 'Leather', 'Mileage'], ['Make', 'Model', 'Type', 'Cruise', 'Sound', 'Leather', 'Mileage'], ['Cylinder', 'Cruise', 'Sound', 'Leather', 'Mileage'], ['Make', 'Cylinder', 'Cruise', 'Sound', 'Leather', 'Mileage'], ['Model', 'Cylinder', 'Cruise', 'Sound', 'Leather', 'Mileage'], ['Make', 'Model', 'Cylinder', 'Cruise', 'Sound', 'Leather', 'Mileage'], ['Type', 'Cylinder', 'Cruise', 'Sound', 'Leather', 'Mileage'], ['Make', 'Type', 'Cylinder', 'Cruise', 'Sound', 'Leather', 'Mileage'], ['Model', 'Type', 'Cylinder', 'Cruise', 'Sound', 'Leather', 'Mileage'], ['Make', 'Model', 'Type', 'Cylinder', 'Cruise', 'Sound', 'Leather', 'Mileage'], ['Doors', 'Cruise', 'Sound', 'Leather', 'Mileage'], ['Make', 'Doors', 'Cruise', 'Sound', 'Leather', 'Mileage'], ['Model', 'Doors', 'Cruise', 'Sound', 'Leather', 'Mileage'], ['Make', 'Model', 'Doors', 'Cruise', 'Sound', 'Leather', 'Mileage'], ['Type', 'Doors', 'Cruise', 'Sound', 'Leather', 'Mileage'], ['Make', 'Type', 'Doors', 'Cruise', 'Sound', 'Leather', 'Mileage'], ['Model', 'Type', 'Doors', 'Cruise', 'Sound', 'Leather', 'Mileage'], ['Make', 'Model', 'Type', 'Doors', 'Cruise', 'Sound', 'Leather', 'Mileage'], ['Cylinder', 'Doors', 'Cruise', 'Sound', 'Leather', 'Mileage'], ['Make', 'Cylinder', 'Doors', 'Cruise', 'Sound', 'Leather', 'Mileage'], ['Model', 'Cylinder', 'Doors', 'Cruise', 'Sound', 'Leather', 'Mileage'], ['Make', 'Model', 'Cylinder', 'Doors', 'Cruise', 'Sound', 'Leather', 'Mileage'], ['Type', 'Cylinder', 'Doors', 'Cruise', 'Sound', 'Leather', 'Mileage'], ['Make', 'Type', 'Cylinder', 'Doors', 'Cruise', 'Sound', 'Leather', 'Mileage'], ['Model', 'Type', 'Cylinder', 'Doors', 'Cruise', 'Sound', 'Leather', 'Mileage'], ['Make', 'Model', 'Type', 'Cylinder', 'Doors', 'Cruise', 'Sound', 'Leather', 'Mileage'], ['Trim', 'Mileage'], ['Make', 'Trim', 'Mileage'], ['Model', 'Trim', 'Mileage'], ['Make', 'Model', 'Trim', 'Mileage'], ['Type', 'Trim', 'Mileage'], ['Make', 'Type', 'Trim', 'Mileage'], ['Model', 'Type', 'Trim', 'Mileage'], ['Make', 'Model', 'Type', 'Trim', 'Mileage'], ['Cylinder', 'Trim', 'Mileage'], ['Make', 'Cylinder', 'Trim', 'Mileage'], ['Model', 'Cylinder', 'Trim', 'Mileage'], ['Make', 'Model', 'Cylinder', 'Trim', 'Mileage'], ['Type', 'Cylinder', 'Trim', 'Mileage'], ['Make', 'Type', 'Cylinder', 'Trim', 'Mileage'], ['Model', 'Type', 'Cylinder', 'Trim', 'Mileage'], ['Make', 'Model', 'Type', 'Cylinder', 'Trim', 'Mileage'], ['Doors', 'Trim', 'Mileage'], ['Make', 'Doors', 'Trim', 'Mileage'], ['Model', 'Doors', 'Trim', 'Mileage'], ['Make', 'Model', 'Doors', 'Trim', 'Mileage'], ['Type', 'Doors', 'Trim', 'Mileage'], ['Make', 'Type', 'Doors', 'Trim', 'Mileage'], ['Model', 'Type', 'Doors', 'Trim', 'Mileage'], ['Make', 'Model', 'Type', 'Doors', 'Trim', 'Mileage'], ['Cylinder', 'Doors', 'Trim', 'Mileage'], ['Make', 'Cylinder', 'Doors', 'Trim', 'Mileage'], ['Model', 'Cylinder', 'Doors', 'Trim', 'Mileage'], ['Make', 'Model', 'Cylinder', 'Doors', 'Trim', 'Mileage'], ['Type', 'Cylinder', 'Doors', 'Trim', 'Mileage'], ['Make', 'Type', 'Cylinder', 'Doors', 'Trim', 'Mileage'], ['Model', 'Type', 'Cylinder', 'Doors', 'Trim', 'Mileage'], ['Make', 'Model', 'Type', 'Cylinder', 'Doors', 'Trim', 'Mileage'], ['Cruise', 'Trim', 'Mileage'], ['Make', 'Cruise', 'Trim', 'Mileage'], ['Model', 'Cruise', 'Trim', 'Mileage'], ['Make', 'Model', 'Cruise', 'Trim', 'Mileage'], ['Type', 'Cruise', 'Trim', 'Mileage'], ['Make', 'Type', 'Cruise', 'Trim', 'Mileage'], ['Model', 'Type', 'Cruise', 'Trim', 'Mileage'], ['Make', 'Model', 'Type', 'Cruise', 'Trim', 'Mileage'], ['Cylinder', 'Cruise', 'Trim', 'Mileage'], ['Make', 'Cylinder', 'Cruise', 'Trim', 'Mileage'], ['Model', 'Cylinder', 'Cruise', 'Trim', 'Mileage'], ['Make', 'Model', 'Cylinder', 'Cruise', 'Trim', 'Mileage'], ['Type', 'Cylinder', 'Cruise', 'Trim', 'Mileage'], ['Make', 'Type', 'Cylinder', 'Cruise', 'Trim', 'Mileage'], ['Model', 'Type', 'Cylinder', 'Cruise', 'Trim', 'Mileage'], ['Make', 'Model', 'Type', 'Cylinder', 'Cruise', 'Trim', 'Mileage'], ['Doors', 'Cruise', 'Trim', 'Mileage'], ['Make', 'Doors', 'Cruise', 'Trim', 'Mileage'], ['Model', 'Doors', 'Cruise', 'Trim', 'Mileage'], ['Make', 'Model', 'Doors', 'Cruise', 'Trim', 'Mileage'], ['Type', 'Doors', 'Cruise', 'Trim', 'Mileage'], ['Make', 'Type', 'Doors', 'Cruise', 'Trim', 'Mileage'], ['Model', 'Type', 'Doors', 'Cruise', 'Trim', 'Mileage'], ['Make', 'Model', 'Type', 'Doors', 'Cruise', 'Trim', 'Mileage'], ['Cylinder', 'Doors', 'Cruise', 'Trim', 'Mileage'], ['Make', 'Cylinder', 'Doors', 'Cruise', 'Trim', 'Mileage'], ['Model', 'Cylinder', 'Doors', 'Cruise', 'Trim', 'Mileage'], ['Make', 'Model', 'Cylinder', 'Doors', 'Cruise', 'Trim', 'Mileage'], ['Type', 'Cylinder', 'Doors', 'Cruise', 'Trim', 'Mileage'], ['Make', 'Type', 'Cylinder', 'Doors', 'Cruise', 'Trim', 'Mileage'], ['Model', 'Type', 'Cylinder', 'Doors', 'Cruise', 'Trim', 'Mileage'], ['Make', 'Model', 'Type', 'Cylinder', 'Doors', 'Cruise', 'Trim', 'Mileage'], ['Sound', 'Trim', 'Mileage'], ['Make', 'Sound', 'Trim', 'Mileage'], ['Model', 'Sound', 'Trim', 'Mileage'], ['Make', 'Model', 'Sound', 'Trim', 'Mileage'], ['Type', 'Sound', 'Trim', 'Mileage'], ['Make', 'Type', 'Sound', 'Trim', 'Mileage'], ['Model', 'Type', 'Sound', 'Trim', 'Mileage'], ['Make', 'Model', 'Type', 'Sound', 'Trim', 'Mileage'], ['Cylinder', 'Sound', 'Trim', 'Mileage'], ['Make', 'Cylinder', 'Sound', 'Trim', 'Mileage'], ['Model', 'Cylinder', 'Sound', 'Trim', 'Mileage'], ['Make', 'Model', 'Cylinder', 'Sound', 'Trim', 'Mileage'], ['Type', 'Cylinder', 'Sound', 'Trim', 'Mileage'], ['Make', 'Type', 'Cylinder', 'Sound', 'Trim', 'Mileage'], ['Model', 'Type', 'Cylinder', 'Sound', 'Trim', 'Mileage'], ['Make', 'Model', 'Type', 'Cylinder', 'Sound', 'Trim', 'Mileage'], ['Doors', 'Sound', 'Trim', 'Mileage'], ['Make', 'Doors', 'Sound', 'Trim', 'Mileage'], ['Model', 'Doors', 'Sound', 'Trim', 'Mileage'], ['Make', 'Model', 'Doors', 'Sound', 'Trim', 'Mileage'], ['Type', 'Doors', 'Sound', 'Trim', 'Mileage'], ['Make', 'Type', 'Doors', 'Sound', 'Trim', 'Mileage'], ['Model', 'Type', 'Doors', 'Sound', 'Trim', 'Mileage'], ['Make', 'Model', 'Type', 'Doors', 'Sound', 'Trim', 'Mileage'], ['Cylinder', 'Doors', 'Sound', 'Trim', 'Mileage'], ['Make', 'Cylinder', 'Doors', 'Sound', 'Trim', 'Mileage'], ['Model', 'Cylinder', 'Doors', 'Sound', 'Trim', 'Mileage'], ['Make', 'Model', 'Cylinder', 'Doors', 'Sound', 'Trim', 'Mileage'], ['Type', 'Cylinder', 'Doors', 'Sound', 'Trim', 'Mileage'], ['Make', 'Type', 'Cylinder', 'Doors', 'Sound', 'Trim', 'Mileage'], ['Model', 'Type', 'Cylinder', 'Doors', 'Sound', 'Trim', 'Mileage'], ['Make', 'Model', 'Type', 'Cylinder', 'Doors', 'Sound', 'Trim', 'Mileage'], ['Cruise', 'Sound', 'Trim', 'Mileage'], ['Make', 'Cruise', 'Sound', 'Trim', 'Mileage'], ['Model', 'Cruise', 'Sound', 'Trim', 'Mileage'], ['Make', 'Model', 'Cruise', 'Sound', 'Trim', 'Mileage'], ['Type', 'Cruise', 'Sound', 'Trim', 'Mileage'], ['Make', 'Type', 'Cruise', 'Sound', 'Trim', 'Mileage'], ['Model', 'Type', 'Cruise', 'Sound', 'Trim', 'Mileage'], ['Make', 'Model', 'Type', 'Cruise', 'Sound', 'Trim', 'Mileage'], ['Cylinder', 'Cruise', 'Sound', 'Trim', 'Mileage'], ['Make', 'Cylinder', 'Cruise', 'Sound', 'Trim', 'Mileage'], ['Model', 'Cylinder', 'Cruise', 'Sound', 'Trim', 'Mileage'], ['Make', 'Model', 'Cylinder', 'Cruise', 'Sound', 'Trim', 'Mileage'], ['Type', 'Cylinder', 'Cruise', 'Sound', 'Trim', 'Mileage'], ['Make', 'Type', 'Cylinder', 'Cruise', 'Sound', 'Trim', 'Mileage'], ['Model', 'Type', 'Cylinder', 'Cruise', 'Sound', 'Trim', 'Mileage'], ['Make', 'Model', 'Type', 'Cylinder', 'Cruise', 'Sound', 'Trim', 'Mileage'], ['Doors', 'Cruise', 'Sound', 'Trim', 'Mileage'], ['Make', 'Doors', 'Cruise', 'Sound', 'Trim', 'Mileage'], ['Model', 'Doors', 'Cruise', 'Sound', 'Trim', 'Mileage'], ['Make', 'Model', 'Doors', 'Cruise', 'Sound', 'Trim', 'Mileage'], ['Type', 'Doors', 'Cruise', 'Sound', 'Trim', 'Mileage'], ['Make', 'Type', 'Doors', 'Cruise', 'Sound', 'Trim', 'Mileage'], ['Model', 'Type', 'Doors', 'Cruise', 'Sound', 'Trim', 'Mileage'], ['Make', 'Model', 'Type', 'Doors', 'Cruise', 'Sound', 'Trim', 'Mileage'], ['Cylinder', 'Doors', 'Cruise', 'Sound', 'Trim', 'Mileage'], ['Make', 'Cylinder', 'Doors', 'Cruise', 'Sound', 'Trim', 'Mileage'], ['Model', 'Cylinder', 'Doors', 'Cruise', 'Sound', 'Trim', 'Mileage'], ['Make', 'Model', 'Cylinder', 'Doors', 'Cruise', 'Sound', 'Trim', 'Mileage'], ['Type', 'Cylinder', 'Doors', 'Cruise', 'Sound', 'Trim', 'Mileage'], ['Make', 'Type', 'Cylinder', 'Doors', 'Cruise', 'Sound', 'Trim', 'Mileage'], ['Model', 'Type', 'Cylinder', 'Doors', 'Cruise', 'Sound', 'Trim', 'Mileage'], ['Make', 'Model', 'Type', 'Cylinder', 'Doors', 'Cruise', 'Sound', 'Trim', 'Mileage'], ['Leather', 'Trim', 'Mileage'], ['Make', 'Leather', 'Trim', 'Mileage'], ['Model', 'Leather', 'Trim', 'Mileage'], ['Make', 'Model', 'Leather', 'Trim', 'Mileage'], ['Type', 'Leather', 'Trim', 'Mileage'], ['Make', 'Type', 'Leather', 'Trim', 'Mileage'], ['Model', 'Type', 'Leather', 'Trim', 'Mileage'], ['Make', 'Model', 'Type', 'Leather', 'Trim', 'Mileage'], ['Cylinder', 'Leather', 'Trim', 'Mileage'], ['Make', 'Cylinder', 'Leather', 'Trim', 'Mileage'], ['Model', 'Cylinder', 'Leather', 'Trim', 'Mileage'], ['Make', 'Model', 'Cylinder', 'Leather', 'Trim', 'Mileage'], ['Type', 'Cylinder', 'Leather', 'Trim', 'Mileage'], ['Make', 'Type', 'Cylinder', 'Leather', 'Trim', 'Mileage'], ['Model', 'Type', 'Cylinder', 'Leather', 'Trim', 'Mileage'], ['Make', 'Model', 'Type', 'Cylinder', 'Leather', 'Trim', 'Mileage'], ['Doors', 'Leather', 'Trim', 'Mileage'], ['Make', 'Doors', 'Leather', 'Trim', 'Mileage'], ['Model', 'Doors', 'Leather', 'Trim', 'Mileage'], ['Make', 'Model', 'Doors', 'Leather', 'Trim', 'Mileage'], ['Type', 'Doors', 'Leather', 'Trim', 'Mileage'], ['Make', 'Type', 'Doors', 'Leather', 'Trim', 'Mileage'], ['Model', 'Type', 'Doors', 'Leather', 'Trim', 'Mileage'], ['Make', 'Model', 'Type', 'Doors', 'Leather', 'Trim', 'Mileage'], ['Cylinder', 'Doors', 'Leather', 'Trim', 'Mileage'], ['Make', 'Cylinder', 'Doors', 'Leather', 'Trim', 'Mileage'], ['Model', 'Cylinder', 'Doors', 'Leather', 'Trim', 'Mileage'], ['Make', 'Model', 'Cylinder', 'Doors', 'Leather', 'Trim', 'Mileage'], ['Type', 'Cylinder', 'Doors', 'Leather', 'Trim', 'Mileage'], ['Make', 'Type', 'Cylinder', 'Doors', 'Leather', 'Trim', 'Mileage'], ['Model', 'Type', 'Cylinder', 'Doors', 'Leather', 'Trim', 'Mileage'], ['Make', 'Model', 'Type', 'Cylinder', 'Doors', 'Leather', 'Trim', 'Mileage'], ['Cruise', 'Leather', 'Trim', 'Mileage'], ['Make', 'Cruise', 'Leather', 'Trim', 'Mileage'], ['Model', 'Cruise', 'Leather', 'Trim', 'Mileage'], ['Make', 'Model', 'Cruise', 'Leather', 'Trim', 'Mileage'], ['Type', 'Cruise', 'Leather', 'Trim', 'Mileage'], ['Make', 'Type', 'Cruise', 'Leather', 'Trim', 'Mileage'], ['Model', 'Type', 'Cruise', 'Leather', 'Trim', 'Mileage'], ['Make', 'Model', 'Type', 'Cruise', 'Leather', 'Trim', 'Mileage'], ['Cylinder', 'Cruise', 'Leather', 'Trim', 'Mileage'], ['Make', 'Cylinder', 'Cruise', 'Leather', 'Trim', 'Mileage'], ['Model', 'Cylinder', 'Cruise', 'Leather', 'Trim', 'Mileage'], ['Make', 'Model', 'Cylinder', 'Cruise', 'Leather', 'Trim', 'Mileage'], ['Type', 'Cylinder', 'Cruise', 'Leather', 'Trim', 'Mileage'], ['Make', 'Type', 'Cylinder', 'Cruise', 'Leather', 'Trim', 'Mileage'], ['Model', 'Type', 'Cylinder', 'Cruise', 'Leather', 'Trim', 'Mileage'], ['Make', 'Model', 'Type', 'Cylinder', 'Cruise', 'Leather', 'Trim', 'Mileage'], ['Doors', 'Cruise', 'Leather', 'Trim', 'Mileage'], ['Make', 'Doors', 'Cruise', 'Leather', 'Trim', 'Mileage'], ['Model', 'Doors', 'Cruise', 'Leather', 'Trim', 'Mileage'], ['Make', 'Model', 'Doors', 'Cruise', 'Leather', 'Trim', 'Mileage'], ['Type', 'Doors', 'Cruise', 'Leather', 'Trim', 'Mileage'], ['Make', 'Type', 'Doors', 'Cruise', 'Leather', 'Trim', 'Mileage'], ['Model', 'Type', 'Doors', 'Cruise', 'Leather', 'Trim', 'Mileage'], ['Make', 'Model', 'Type', 'Doors', 'Cruise', 'Leather', 'Trim', 'Mileage'], ['Cylinder', 'Doors', 'Cruise', 'Leather', 'Trim', 'Mileage'], ['Make', 'Cylinder', 'Doors', 'Cruise', 'Leather', 'Trim', 'Mileage'], ['Model', 'Cylinder', 'Doors', 'Cruise', 'Leather', 'Trim', 'Mileage'], ['Make', 'Model', 'Cylinder', 'Doors', 'Cruise', 'Leather', 'Trim', 'Mileage'], ['Type', 'Cylinder', 'Doors', 'Cruise', 'Leather', 'Trim', 'Mileage'], ['Make', 'Type', 'Cylinder', 'Doors', 'Cruise', 'Leather', 'Trim', 'Mileage'], ['Model', 'Type', 'Cylinder', 'Doors', 'Cruise', 'Leather', 'Trim', 'Mileage'], ['Make', 'Model', 'Type', 'Cylinder', 'Doors', 'Cruise', 'Leather', 'Trim', 'Mileage'], ['Sound', 'Leather', 'Trim', 'Mileage'], ['Make', 'Sound', 'Leather', 'Trim', 'Mileage'], ['Model', 'Sound', 'Leather', 'Trim', 'Mileage'], ['Make', 'Model', 'Sound', 'Leather', 'Trim', 'Mileage'], ['Type', 'Sound', 'Leather', 'Trim', 'Mileage'], ['Make', 'Type', 'Sound', 'Leather', 'Trim', 'Mileage'], ['Model', 'Type', 'Sound', 'Leather', 'Trim', 'Mileage'], ['Make', 'Model', 'Type', 'Sound', 'Leather', 'Trim', 'Mileage'], ['Cylinder', 'Sound', 'Leather', 'Trim', 'Mileage'], ['Make', 'Cylinder', 'Sound', 'Leather', 'Trim', 'Mileage'], ['Model', 'Cylinder', 'Sound', 'Leather', 'Trim', 'Mileage'], ['Make', 'Model', 'Cylinder', 'Sound', 'Leather', 'Trim', 'Mileage'], ['Type', 'Cylinder', 'Sound', 'Leather', 'Trim', 'Mileage'], ['Make', 'Type', 'Cylinder', 'Sound', 'Leather', 'Trim', 'Mileage'], ['Model', 'Type', 'Cylinder', 'Sound', 'Leather', 'Trim', 'Mileage'], ['Make', 'Model', 'Type', 'Cylinder', 'Sound', 'Leather', 'Trim', 'Mileage'], ['Doors', 'Sound', 'Leather', 'Trim', 'Mileage'], ['Make', 'Doors', 'Sound', 'Leather', 'Trim', 'Mileage'], ['Model', 'Doors', 'Sound', 'Leather', 'Trim', 'Mileage'], ['Make', 'Model', 'Doors', 'Sound', 'Leather', 'Trim', 'Mileage'], ['Type', 'Doors', 'Sound', 'Leather', 'Trim', 'Mileage'], ['Make', 'Type', 'Doors', 'Sound', 'Leather', 'Trim', 'Mileage'], ['Model', 'Type', 'Doors', 'Sound', 'Leather', 'Trim', 'Mileage'], ['Make', 'Model', 'Type', 'Doors', 'Sound', 'Leather', 'Trim', 'Mileage'], ['Cylinder', 'Doors', 'Sound', 'Leather', 'Trim', 'Mileage'], ['Make', 'Cylinder', 'Doors', 'Sound', 'Leather', 'Trim', 'Mileage'], ['Model', 'Cylinder', 'Doors', 'Sound', 'Leather', 'Trim', 'Mileage'], ['Make', 'Model', 'Cylinder', 'Doors', 'Sound', 'Leather', 'Trim', 'Mileage'], ['Type', 'Cylinder', 'Doors', 'Sound', 'Leather', 'Trim', 'Mileage'], ['Make', 'Type', 'Cylinder', 'Doors', 'Sound', 'Leather', 'Trim', 'Mileage'], ['Model', 'Type', 'Cylinder', 'Doors', 'Sound', 'Leather', 'Trim', 'Mileage'], ['Make', 'Model', 'Type', 'Cylinder', 'Doors', 'Sound', 'Leather', 'Trim', 'Mileage'], ['Cruise', 'Sound', 'Leather', 'Trim', 'Mileage'], ['Make', 'Cruise', 'Sound', 'Leather', 'Trim', 'Mileage'], ['Model', 'Cruise', 'Sound', 'Leather', 'Trim', 'Mileage'], ['Make', 'Model', 'Cruise', 'Sound', 'Leather', 'Trim', 'Mileage'], ['Type', 'Cruise', 'Sound', 'Leather', 'Trim', 'Mileage'], ['Make', 'Type', 'Cruise', 'Sound', 'Leather', 'Trim', 'Mileage'], ['Model', 'Type', 'Cruise', 'Sound', 'Leather', 'Trim', 'Mileage'], ['Make', 'Model', 'Type', 'Cruise', 'Sound', 'Leather', 'Trim', 'Mileage'], ['Cylinder', 'Cruise', 'Sound', 'Leather', 'Trim', 'Mileage'], ['Make', 'Cylinder', 'Cruise', 'Sound', 'Leather', 'Trim', 'Mileage'], ['Model', 'Cylinder', 'Cruise', 'Sound', 'Leather', 'Trim', 'Mileage'], ['Make', 'Model', 'Cylinder', 'Cruise', 'Sound', 'Leather', 'Trim', 'Mileage'], ['Type', 'Cylinder', 'Cruise', 'Sound', 'Leather', 'Trim', 'Mileage'], ['Make', 'Type', 'Cylinder', 'Cruise', 'Sound', 'Leather', 'Trim', 'Mileage'], ['Model', 'Type', 'Cylinder', 'Cruise', 'Sound', 'Leather', 'Trim', 'Mileage'], ['Make', 'Model', 'Type', 'Cylinder', 'Cruise', 'Sound', 'Leather', 'Trim', 'Mileage'], ['Doors', 'Cruise', 'Sound', 'Leather', 'Trim', 'Mileage'], ['Make', 'Doors', 'Cruise', 'Sound', 'Leather', 'Trim', 'Mileage'], ['Model', 'Doors', 'Cruise', 'Sound', 'Leather', 'Trim', 'Mileage'], ['Make', 'Model', 'Doors', 'Cruise', 'Sound', 'Leather', 'Trim', 'Mileage'], ['Type', 'Doors', 'Cruise', 'Sound', 'Leather', 'Trim', 'Mileage'], ['Make', 'Type', 'Doors', 'Cruise', 'Sound', 'Leather', 'Trim', 'Mileage'], ['Model', 'Type', 'Doors', 'Cruise', 'Sound', 'Leather', 'Trim', 'Mileage'], ['Make', 'Model', 'Type', 'Doors', 'Cruise', 'Sound', 'Leather', 'Trim', 'Mileage'], ['Cylinder', 'Doors', 'Cruise', 'Sound', 'Leather', 'Trim', 'Mileage'], ['Make', 'Cylinder', 'Doors', 'Cruise', 'Sound', 'Leather', 'Trim', 'Mileage'], ['Model', 'Cylinder', 'Doors', 'Cruise', 'Sound', 'Leather', 'Trim', 'Mileage'], ['Make', 'Model', 'Cylinder', 'Doors', 'Cruise', 'Sound', 'Leather', 'Trim', 'Mileage'], ['Type', 'Cylinder', 'Doors', 'Cruise', 'Sound', 'Leather', 'Trim', 'Mileage'], ['Make', 'Type', 'Cylinder', 'Doors', 'Cruise', 'Sound', 'Leather', 'Trim', 'Mileage'], ['Model', 'Type', 'Cylinder', 'Doors', 'Cruise', 'Sound', 'Leather', 'Trim', 'Mileage'], ['Make', 'Model', 'Type', 'Cylinder', 'Doors', 'Cruise', 'Sound', 'Leather', 'Trim', 'Mileage']]\n"
     ]
    }
   ],
   "source": [
    "def combinations(L):\n",
    "    if L:\n",
    "        result=combinations(L[:-1])\n",
    "        return result+[i+[L[-1]] for i in result]\n",
    "    else: \n",
    "        return [[]]\n",
    "    \n",
    "#n=int(input())    \n",
    "#jlist=list(map(int,input().split(\" \")))[:n]\n",
    "combi=combinations(['Make','Model','Type','Cylinder','Doors','Cruise','Sound','Leather','Trim','Mileage']) \n",
    "combi=combi[1:]\n",
    "print(combi)"
   ]
  },
  {
   "cell_type": "code",
   "execution_count": 50,
   "metadata": {},
   "outputs": [],
   "source": [
    "R2_Scores=[]\n",
    "for i in combi:\n",
    "  \n",
    "  x_combi=df[i] #combinations of features\n",
    "  y = df['Price'].values #array of targets\n",
    "\n",
    "  \n",
    "  #dummy encoding/oneHotEncoding cat variables\n",
    "  x_combi=pd.get_dummies(x_combi,columns=[k for k in to_encode if k in x_combi.columns])\n",
    "  \n",
    "\n",
    "  #splitting\n",
    "  from sklearn.model_selection import train_test_split\n",
    "  X_train, X_test, y_train, y_test = train_test_split(x_combi, y, test_size=0.2, random_state=0)\n",
    "\n",
    "\n",
    "  #scaling is needed only when \"mileage\" is in the featrures.\n",
    "  if \"Mileage\" in X_train:\n",
    "    from sklearn.preprocessing import StandardScaler ## standrard scaling \n",
    "    scaler=StandardScaler()#initialise to a variable\n",
    "    scaler.fit(X_train) # we are finding the values of mean and sd from the td\n",
    "    X_train=scaler.transform(X_train)# fit (mean, sd) and then transform the training data\n",
    "    X_test=scaler.transform(X_test) #only transform the test dataset, dont fit it\n",
    "\n",
    " #model training\n",
    "  from sklearn.linear_model import LinearRegression\n",
    "  regressor = LinearRegression()\n",
    "  regressor.fit(X_train, y_train)\n",
    "\n",
    "#prediction and score\n",
    "  y_pred = regressor.predict(X_test) # given the features of the test dataset, it will give the final predictions\n",
    "  from sklearn import metrics\n",
    "  R2_Scores.append(metrics.r2_score(y_test,y_pred))"
   ]
  },
  {
   "cell_type": "code",
   "execution_count": 51,
   "metadata": {},
   "outputs": [
    {
     "data": {
      "text/html": [
       "<div>\n",
       "<style scoped>\n",
       "    .dataframe tbody tr th:only-of-type {\n",
       "        vertical-align: middle;\n",
       "    }\n",
       "\n",
       "    .dataframe tbody tr th {\n",
       "        vertical-align: top;\n",
       "    }\n",
       "\n",
       "    .dataframe thead th {\n",
       "        text-align: right;\n",
       "    }\n",
       "</style>\n",
       "<table border=\"1\" class=\"dataframe\">\n",
       "  <thead>\n",
       "    <tr style=\"text-align: right;\">\n",
       "      <th></th>\n",
       "      <th>Feature_combinations</th>\n",
       "      <th>R2_Scores</th>\n",
       "    </tr>\n",
       "  </thead>\n",
       "  <tbody>\n",
       "    <tr>\n",
       "      <th>0</th>\n",
       "      <td>[Make]</td>\n",
       "      <td>0.592826</td>\n",
       "    </tr>\n",
       "    <tr>\n",
       "      <th>1</th>\n",
       "      <td>[Model]</td>\n",
       "      <td>0.951327</td>\n",
       "    </tr>\n",
       "    <tr>\n",
       "      <th>2</th>\n",
       "      <td>[Make, Model]</td>\n",
       "      <td>0.950010</td>\n",
       "    </tr>\n",
       "    <tr>\n",
       "      <th>3</th>\n",
       "      <td>[Type]</td>\n",
       "      <td>0.327325</td>\n",
       "    </tr>\n",
       "    <tr>\n",
       "      <th>4</th>\n",
       "      <td>[Make, Type]</td>\n",
       "      <td>0.736135</td>\n",
       "    </tr>\n",
       "    <tr>\n",
       "      <th>...</th>\n",
       "      <td>...</td>\n",
       "      <td>...</td>\n",
       "    </tr>\n",
       "    <tr>\n",
       "      <th>1018</th>\n",
       "      <td>[Make, Model, Cylinder, Doors, Cruise, Sound, ...</td>\n",
       "      <td>0.992356</td>\n",
       "    </tr>\n",
       "    <tr>\n",
       "      <th>1019</th>\n",
       "      <td>[Type, Cylinder, Doors, Cruise, Sound, Leather...</td>\n",
       "      <td>0.898330</td>\n",
       "    </tr>\n",
       "    <tr>\n",
       "      <th>1020</th>\n",
       "      <td>[Make, Type, Cylinder, Doors, Cruise, Sound, L...</td>\n",
       "      <td>0.962098</td>\n",
       "    </tr>\n",
       "    <tr>\n",
       "      <th>1021</th>\n",
       "      <td>[Model, Type, Cylinder, Doors, Cruise, Sound, ...</td>\n",
       "      <td>0.992581</td>\n",
       "    </tr>\n",
       "    <tr>\n",
       "      <th>1022</th>\n",
       "      <td>[Make, Model, Type, Cylinder, Doors, Cruise, S...</td>\n",
       "      <td>0.992650</td>\n",
       "    </tr>\n",
       "  </tbody>\n",
       "</table>\n",
       "<p>1023 rows × 2 columns</p>\n",
       "</div>"
      ],
      "text/plain": [
       "                                   Feature_combinations  R2_Scores\n",
       "0                                                [Make]   0.592826\n",
       "1                                               [Model]   0.951327\n",
       "2                                         [Make, Model]   0.950010\n",
       "3                                                [Type]   0.327325\n",
       "4                                          [Make, Type]   0.736135\n",
       "...                                                 ...        ...\n",
       "1018  [Make, Model, Cylinder, Doors, Cruise, Sound, ...   0.992356\n",
       "1019  [Type, Cylinder, Doors, Cruise, Sound, Leather...   0.898330\n",
       "1020  [Make, Type, Cylinder, Doors, Cruise, Sound, L...   0.962098\n",
       "1021  [Model, Type, Cylinder, Doors, Cruise, Sound, ...   0.992581\n",
       "1022  [Make, Model, Type, Cylinder, Doors, Cruise, S...   0.992650\n",
       "\n",
       "[1023 rows x 2 columns]"
      ]
     },
     "execution_count": 51,
     "metadata": {},
     "output_type": "execute_result"
    }
   ],
   "source": [
    "df3 = pd.DataFrame({'Feature_combinations': combi, 'R2_Scores': R2_Scores})\n",
    "df3"
   ]
  },
  {
   "cell_type": "code",
   "execution_count": 52,
   "metadata": {},
   "outputs": [
    {
     "name": "stdout",
     "output_type": "stream",
     "text": [
      "0.9931327934425875\n",
      "1013\n"
     ]
    },
    {
     "data": {
      "text/plain": [
       "['Model', 'Type', 'Doors', 'Cruise', 'Sound', 'Leather', 'Trim', 'Mileage']"
      ]
     },
     "execution_count": 52,
     "metadata": {},
     "output_type": "execute_result"
    }
   ],
   "source": [
    "print(df3[\"R2_Scores\"].max())\n",
    "\n",
    "print(df3[\"R2_Scores\"].argmax())\n",
    "df3[\"Feature_combinations\"][df3[\"R2_Scores\"].argmax()]"
   ]
  }
 ],
 "metadata": {
  "kernelspec": {
   "display_name": "Python 3 (ipykernel)",
   "language": "python",
   "name": "python3"
  },
  "language_info": {
   "codemirror_mode": {
    "name": "ipython",
    "version": 3
   },
   "file_extension": ".py",
   "mimetype": "text/x-python",
   "name": "python",
   "nbconvert_exporter": "python",
   "pygments_lexer": "ipython3",
   "version": "3.9.13"
  }
 },
 "nbformat": 4,
 "nbformat_minor": 1
}
